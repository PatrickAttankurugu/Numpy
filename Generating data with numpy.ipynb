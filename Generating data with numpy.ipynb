{
 "cells": [
  {
   "cell_type": "markdown",
   "metadata": {},
   "source": [
    "# Generating Data with Numpy"
   ]
  },
  {
   "cell_type": "code",
   "execution_count": 1,
   "metadata": {},
   "outputs": [],
   "source": [
    "import numpy as np"
   ]
  },
  {
   "cell_type": "markdown",
   "metadata": {},
   "source": [
    "### np.empty(), np.zeros(), np.ones(), np.full()"
   ]
  },
  {
   "cell_type": "code",
   "execution_count": 2,
   "metadata": {},
   "outputs": [
    {
     "data": {
      "text/plain": [
       "array([[0., 0., 0.],\n",
       "       [0., 0., 0.]])"
      ]
     },
     "execution_count": 2,
     "metadata": {},
     "output_type": "execute_result"
    }
   ],
   "source": [
    "array_empty=np.empty(shape=(2,3))\n",
    "#the above code will create an empty two by three array\n",
    "array_empty"
   ]
  },
  {
   "cell_type": "markdown",
   "metadata": {},
   "source": [
    "But the problem with the above code is that, it can sometimes give us some random values including \n",
    "numbers greater than o. This is where  we have to us np.zeros if we want to obtain only zeros"
   ]
  },
  {
   "cell_type": "code",
   "execution_count": 3,
   "metadata": {},
   "outputs": [
    {
     "data": {
      "text/plain": [
       "array([[1.42237375e+214, 8.73774865e+183, 9.82723909e-153,\n",
       "        4.86887888e+170, 9.08367217e+223, 5.50409697e+257,\n",
       "        1.32851841e+179, 2.32160957e-152, 5.44367617e+156,\n",
       "        6.01347002e-154],\n",
       "       [3.17261480e+180, 6.01334434e-154, 9.87762528e+247,\n",
       "        4.46811730e-091, 2.44041296e-154, 9.10016855e+276,\n",
       "        1.03475054e-028, 1.17574872e+214, 9.19596581e+170,\n",
       "        1.81450398e-152],\n",
       "       [8.06827464e-090, 1.13088181e+257, 3.06836100e+257,\n",
       "        6.01346953e-154, 1.87633123e-152, 3.32230853e+257,\n",
       "        2.35288464e+251, 3.10423937e+169, 1.68821486e+195,\n",
       "        6.01099969e+175],\n",
       "       [1.94210174e+227, 2.68206260e-260, 7.70858946e+218,\n",
       "        6.01334668e-154, 4.47593816e-091, 7.01413727e-009,\n",
       "        3.74168445e+233, 2.59345444e+161, 2.58400946e+161,\n",
       "        2.53160900e-086],\n",
       "       [4.35287203e-114, 4.46009532e+217, 7.65775292e-096,\n",
       "        1.15297918e-259, 1.12547821e-153, 6.01347002e-154,\n",
       "        6.01347002e-154, 6.01347002e-154, 6.01347002e-154,\n",
       "        6.01347002e-154],\n",
       "       [6.01347002e-154, 6.98347712e-077, 5.98149210e-154,\n",
       "        6.01354999e-154, 6.01347002e-154, 6.01347002e-154,\n",
       "        6.01347002e-154, 6.01347002e-154, 6.01347002e-154,\n",
       "        6.01347002e-154],\n",
       "       [1.05132387e-153, 6.01334504e-154, 2.46770782e-154,\n",
       "        3.55959779e+180, 1.03063392e-113, 1.99416198e+174,\n",
       "        3.28897983e-086, 2.99936876e-067, 6.01334510e-154,\n",
       "        6.01347002e-154],\n",
       "       [4.04679947e-086, 1.15297735e-259, 6.01347002e-154,\n",
       "        1.30459378e-076, 4.85110534e-086, 6.01334510e-154,\n",
       "        7.80195971e-013, 8.03408340e-095, 1.05894728e-153,\n",
       "        1.15301226e-259],\n",
       "       [6.01347002e-154, 5.36812248e+242, 9.92152605e+247,\n",
       "        5.56206154e+180, 6.01347002e-154, 8.94213159e+130,\n",
       "        6.03134498e-154, 3.88834045e+160, 2.44011733e-154,\n",
       "        1.71010319e+214],\n",
       "       [6.09892510e-013, 2.43896055e-154, 2.93573416e+222,\n",
       "        3.17250583e+180, 8.47907613e-053, 3.85589709e-086,\n",
       "        5.98147416e-154, 4.23820020e+175, 9.94858344e-260,\n",
       "        1.41473196e+161]])"
      ]
     },
     "execution_count": 3,
     "metadata": {},
     "output_type": "execute_result"
    }
   ],
   "source": [
    "emptyArray=np.empty(shape=(10,10))\n",
    "emptyArray"
   ]
  },
  {
   "cell_type": "markdown",
   "metadata": {
    "scrolled": true
   },
   "source": [
    "Now check the code below for np.zeros"
   ]
  },
  {
   "cell_type": "code",
   "execution_count": 4,
   "metadata": {
    "scrolled": true
   },
   "outputs": [
    {
     "data": {
      "text/plain": [
       "array([[0., 0., 0.],\n",
       "       [0., 0., 0.]])"
      ]
     },
     "execution_count": 4,
     "metadata": {},
     "output_type": "execute_result"
    }
   ],
   "source": [
    "array_0s=np.zeros(shape=(2,3))\n",
    "array_0s"
   ]
  },
  {
   "cell_type": "code",
   "execution_count": 5,
   "metadata": {},
   "outputs": [
    {
     "data": {
      "text/plain": [
       "array([['1', '1', '1'],\n",
       "       ['1', '1', '1']], dtype='<U1')"
      ]
     },
     "execution_count": 5,
     "metadata": {},
     "output_type": "execute_result"
    }
   ],
   "source": [
    "array_0s=np.ones(shape=(2,3),dtype=str)\n",
    "array_0s"
   ]
  },
  {
   "cell_type": "code",
   "execution_count": 6,
   "metadata": {},
   "outputs": [
    {
     "data": {
      "text/plain": [
       "array([[1.42237375e+214, 8.73774865e+183, 9.82723909e-153,\n",
       "        4.86887888e+170, 9.08367217e+223, 5.50409697e+257,\n",
       "        1.32851841e+179, 2.32160957e-152, 5.44367617e+156,\n",
       "        6.01347002e-154],\n",
       "       [3.17261480e+180, 6.01334434e-154, 9.87762528e+247,\n",
       "        4.46811730e-091, 2.44041296e-154, 9.10016855e+276,\n",
       "        1.03475054e-028, 1.17574872e+214, 9.19596581e+170,\n",
       "        1.81450398e-152],\n",
       "       [8.06827464e-090, 1.13088181e+257, 3.06836100e+257,\n",
       "        6.01346953e-154, 1.87633123e-152, 3.32230853e+257,\n",
       "        2.35288464e+251, 3.10423937e+169, 1.68821486e+195,\n",
       "        6.01099969e+175],\n",
       "       [1.94210174e+227, 2.68206260e-260, 7.70858946e+218,\n",
       "        6.01334668e-154, 4.47593816e-091, 7.01413727e-009,\n",
       "        3.74168445e+233, 2.59345444e+161, 2.58400946e+161,\n",
       "        2.53160900e-086],\n",
       "       [4.35287203e-114, 4.46009532e+217, 7.65775292e-096,\n",
       "        1.15297918e-259, 1.12547821e-153, 6.01347002e-154,\n",
       "        6.01347002e-154, 6.01347002e-154, 6.01347002e-154,\n",
       "        6.01347002e-154],\n",
       "       [6.01347002e-154, 6.98347712e-077, 5.98149210e-154,\n",
       "        6.01354999e-154, 6.01347002e-154, 6.01347002e-154,\n",
       "        6.01347002e-154, 6.01347002e-154, 6.01347002e-154,\n",
       "        6.01347002e-154],\n",
       "       [1.05132387e-153, 6.01334504e-154, 2.46770782e-154,\n",
       "        3.55959779e+180, 1.03063392e-113, 1.99416198e+174,\n",
       "        3.28897983e-086, 2.99936876e-067, 6.01334510e-154,\n",
       "        6.01347002e-154],\n",
       "       [4.04679947e-086, 1.15297735e-259, 6.01347002e-154,\n",
       "        1.30459378e-076, 4.85110534e-086, 6.01334510e-154,\n",
       "        7.80195971e-013, 8.03408340e-095, 1.05894728e-153,\n",
       "        1.15301226e-259],\n",
       "       [6.01347002e-154, 5.36812248e+242, 9.92152605e+247,\n",
       "        5.56206154e+180, 6.01347002e-154, 8.94213159e+130,\n",
       "        6.03134498e-154, 3.88834045e+160, 2.44011733e-154,\n",
       "        1.71010319e+214],\n",
       "       [6.09892510e-013, 2.43896055e-154, 2.93573416e+222,\n",
       "        3.17250583e+180, 8.47907613e-053, 3.85589709e-086,\n",
       "        5.98147416e-154, 4.23820020e+175, 9.94858344e-260,\n",
       "        1.41473196e+161]])"
      ]
     },
     "execution_count": 6,
     "metadata": {},
     "output_type": "execute_result"
    }
   ],
   "source": [
    "array_empty=np.empty(shape=(10,10))\n",
    "array_empty"
   ]
  },
  {
   "cell_type": "code",
   "execution_count": null,
   "metadata": {},
   "outputs": [],
   "source": []
  },
  {
   "cell_type": "code",
   "execution_count": 7,
   "metadata": {},
   "outputs": [
    {
     "data": {
      "text/plain": [
       "array([[0, 0, 0],\n",
       "       [0, 0, 0]], dtype=int8)"
      ]
     },
     "execution_count": 7,
     "metadata": {},
     "output_type": "execute_result"
    }
   ],
   "source": [
    "array_0s=np.zeros(shape=(2,3),dtype=np.int8)\n",
    "array_0s"
   ]
  },
  {
   "cell_type": "markdown",
   "metadata": {},
   "source": [
    "another function used in filling our array with identical numbers is the np.full function\n",
    "It goes this way"
   ]
  },
  {
   "cell_type": "code",
   "execution_count": 8,
   "metadata": {},
   "outputs": [
    {
     "data": {
      "text/plain": [
       "array([[2, 2, 2],\n",
       "       [2, 2, 2]])"
      ]
     },
     "execution_count": 8,
     "metadata": {},
     "output_type": "execute_result"
    }
   ],
   "source": [
    "array_fill=np.full(shape=(2,3),fill_value=2)\n",
    "array_fill"
   ]
  },
  {
   "cell_type": "code",
   "execution_count": 9,
   "metadata": {},
   "outputs": [
    {
     "data": {
      "text/plain": [
       "array([[7, 7, 7, 7],\n",
       "       [7, 7, 7, 7],\n",
       "       [7, 7, 7, 7]])"
      ]
     },
     "execution_count": 9,
     "metadata": {},
     "output_type": "execute_result"
    }
   ],
   "source": [
    "array_fill=np.full(shape=(3,4),fill_value=7)\n",
    "array_fill"
   ]
  },
  {
   "cell_type": "markdown",
   "metadata": {},
   "source": [
    "so basically we can use np.full to fill any array with any numbers of our choice"
   ]
  },
  {
   "cell_type": "code",
   "execution_count": null,
   "metadata": {},
   "outputs": [],
   "source": []
  },
  {
   "cell_type": "markdown",
   "metadata": {},
   "source": [
    "### \"_like\" functions"
   ]
  },
  {
   "cell_type": "code",
   "execution_count": 10,
   "metadata": {},
   "outputs": [
    {
     "data": {
      "text/plain": [
       "array([[1, 3, 4, 5, 6],\n",
       "       [3, 5, 5, 6, 7],\n",
       "       [6, 7, 8, 9, 8]])"
      ]
     },
     "execution_count": 10,
     "metadata": {},
     "output_type": "execute_result"
    }
   ],
   "source": [
    "matrix_A=np.array([[1,3,4,5,6],[3,5,5,6,7],[6,7,8,9,8]])\n",
    "matrix_A"
   ]
  },
  {
   "cell_type": "code",
   "execution_count": 11,
   "metadata": {},
   "outputs": [
    {
     "data": {
      "text/plain": [
       "array([[   0,    0,    0,    0,    0],\n",
       "       [   0,    0,    0,    0,    0],\n",
       "       [1440,    0,    0,    0,    0]])"
      ]
     },
     "execution_count": 11,
     "metadata": {},
     "output_type": "execute_result"
    }
   ],
   "source": [
    "array_empty_like=np.empty_like(matrix_A)\n",
    "array_empty_like\n"
   ]
  },
  {
   "cell_type": "code",
   "execution_count": 12,
   "metadata": {
    "scrolled": true
   },
   "outputs": [
    {
     "data": {
      "text/plain": [
       "array([[0, 0, 0, 0, 0],\n",
       "       [0, 0, 0, 0, 0],\n",
       "       [0, 0, 0, 0, 0]])"
      ]
     },
     "execution_count": 12,
     "metadata": {},
     "output_type": "execute_result"
    }
   ],
   "source": [
    " array_zeros_like=np.zeros_like(matrix_A)\n",
    "array_zeros_like"
   ]
  },
  {
   "cell_type": "code",
   "execution_count": null,
   "metadata": {},
   "outputs": [],
   "source": []
  },
  {
   "cell_type": "code",
   "execution_count": null,
   "metadata": {},
   "outputs": [],
   "source": []
  },
  {
   "cell_type": "code",
   "execution_count": null,
   "metadata": {},
   "outputs": [],
   "source": []
  },
  {
   "cell_type": "code",
   "execution_count": null,
   "metadata": {},
   "outputs": [],
   "source": []
  },
  {
   "cell_type": "markdown",
   "metadata": {},
   "source": [
    "### np.arange()"
   ]
  },
  {
   "cell_type": "markdown",
   "metadata": {},
   "source": [
    "The np.arange function is used to generate a sequence of consecutive numbers"
   ]
  },
  {
   "cell_type": "code",
   "execution_count": 13,
   "metadata": {},
   "outputs": [
    {
     "data": {
      "text/plain": [
       "array([ 1,  4,  7, 10, 13, 16, 19, 22, 25, 28])"
      ]
     },
     "execution_count": 13,
     "metadata": {},
     "output_type": "execute_result"
    }
   ],
   "source": [
    "array_rng=np.arange(1,30,3)\n",
    "array_rng"
   ]
  },
  {
   "cell_type": "code",
   "execution_count": null,
   "metadata": {},
   "outputs": [],
   "source": []
  },
  {
   "cell_type": "code",
   "execution_count": null,
   "metadata": {},
   "outputs": [],
   "source": []
  },
  {
   "cell_type": "code",
   "execution_count": null,
   "metadata": {},
   "outputs": [],
   "source": []
  },
  {
   "cell_type": "code",
   "execution_count": null,
   "metadata": {
    "scrolled": true
   },
   "outputs": [],
   "source": []
  },
  {
   "cell_type": "markdown",
   "metadata": {},
   "source": [
    "## Random Generators"
   ]
  },
  {
   "cell_type": "markdown",
   "metadata": {},
   "source": [
    "### Defining Random Generators"
   ]
  },
  {
   "cell_type": "code",
   "execution_count": null,
   "metadata": {},
   "outputs": [],
   "source": []
  },
  {
   "cell_type": "code",
   "execution_count": 14,
   "metadata": {},
   "outputs": [],
   "source": [
    "from numpy.random import Generator as gen\n",
    "from numpy.random import PCG64 as pcg\n",
    "\n",
    "#in actual sense , their full names are np.random.Generator and numpy.random\n",
    "# PCG stands for Permutation Congruential Generator"
   ]
  },
  {
   "cell_type": "code",
   "execution_count": 15,
   "metadata": {},
   "outputs": [
    {
     "data": {
      "text/plain": [
       "array([ 0.40363671, -0.52305138,  0.54546222,  0.7980638 ,  0.08969348])"
      ]
     },
     "execution_count": 15,
     "metadata": {},
     "output_type": "execute_result"
    }
   ],
   "source": [
    "array_RG=gen(pcg())\n",
    "array_RG.normal(size=5)\n",
    "#this generates a random number from the standard normal distribution"
   ]
  },
  {
   "cell_type": "code",
   "execution_count": 16,
   "metadata": {},
   "outputs": [
    {
     "data": {
      "text/plain": [
       "array([[ 0.85032151,  2.38326688,  1.54955448,  0.61734068, -1.49464802],\n",
       "       [-0.23908075,  1.60682305, -1.36891535, -0.687979  , -0.28674652],\n",
       "       [ 0.53390001,  0.68838262, -0.78252273,  1.62011725,  0.17897661],\n",
       "       [ 1.01587515,  0.9525451 , -1.71798305, -1.35085723,  2.08903407],\n",
       "       [-0.45655284, -0.01125838, -0.56527673, -0.50462143, -1.07322463]])"
      ]
     },
     "execution_count": 16,
     "metadata": {},
     "output_type": "execute_result"
    }
   ],
   "source": [
    "array_RG=gen(pcg())\n",
    "array_RG.normal(size=(5,5))\n",
    "#The only problem with thi code is that every time we run this cell,  we will always get different output\n",
    "#in that case we need to introduce seed=365 to the pcg method"
   ]
  },
  {
   "cell_type": "code",
   "execution_count": 17,
   "metadata": {},
   "outputs": [
    {
     "data": {
      "text/plain": [
       "array([[-0.13640899,  0.09414431, -0.06300442,  1.05391641, -0.6866818 ],\n",
       "       [-0.50922173, -0.7999526 ,  0.73041825,  0.08825439, -2.1177576 ],\n",
       "       [ 0.65526774, -0.48095012, -0.5519114 , -0.58578662, -0.98257896],\n",
       "       [ 1.12378166, -1.30984316, -0.04703774,  0.955272  ,  0.26071745],\n",
       "       [-0.20023668, -1.50172484, -1.4929163 ,  0.96535084,  1.18694633]])"
      ]
     },
     "execution_count": 17,
     "metadata": {},
     "output_type": "execute_result"
    }
   ],
   "source": [
    "array_RG=gen(pcg(seed=365))\n",
    "array_RG.normal(size=(5,5))\n",
    "#sometimes we want to generate some random dataset to test our model \n",
    "\n"
   ]
  },
  {
   "cell_type": "markdown",
   "metadata": {},
   "source": [
    "With the above code , we will always get the same output. Hence we can always use that to generate \n",
    "some random dataset to test our model"
   ]
  },
  {
   "cell_type": "markdown",
   "metadata": {},
   "source": [
    "### Generating Integers, Probabilities and Random Choices"
   ]
  },
  {
   "cell_type": "code",
   "execution_count": null,
   "metadata": {},
   "outputs": [],
   "source": [
    "array_RG=gen(pcg(seed=365))\n",
    "array_RG.integers(10,)"
   ]
  },
  {
   "cell_type": "code",
   "execution_count": null,
   "metadata": {},
   "outputs": [],
   "source": []
  },
  {
   "cell_type": "code",
   "execution_count": null,
   "metadata": {},
   "outputs": [],
   "source": []
  },
  {
   "cell_type": "markdown",
   "metadata": {},
   "source": [
    "### Generating Arrays From Known Distributions"
   ]
  },
  {
   "cell_type": "code",
   "execution_count": null,
   "metadata": {
    "scrolled": true
   },
   "outputs": [],
   "source": []
  },
  {
   "cell_type": "code",
   "execution_count": null,
   "metadata": {},
   "outputs": [],
   "source": []
  },
  {
   "cell_type": "code",
   "execution_count": null,
   "metadata": {},
   "outputs": [],
   "source": []
  },
  {
   "cell_type": "code",
   "execution_count": null,
   "metadata": {},
   "outputs": [],
   "source": []
  },
  {
   "cell_type": "markdown",
   "metadata": {},
   "source": [
    "https://numpy.org/doc/stable/reference/random/generator"
   ]
  },
  {
   "cell_type": "markdown",
   "metadata": {},
   "source": [
    "### Applications of Random Generators"
   ]
  },
  {
   "cell_type": "code",
   "execution_count": null,
   "metadata": {},
   "outputs": [],
   "source": []
  },
  {
   "cell_type": "code",
   "execution_count": null,
   "metadata": {},
   "outputs": [],
   "source": []
  },
  {
   "cell_type": "code",
   "execution_count": null,
   "metadata": {},
   "outputs": [],
   "source": []
  },
  {
   "cell_type": "code",
   "execution_count": null,
   "metadata": {},
   "outputs": [],
   "source": []
  },
  {
   "cell_type": "code",
   "execution_count": null,
   "metadata": {},
   "outputs": [],
   "source": []
  }
 ],
 "metadata": {
  "kernelspec": {
   "display_name": "Python 3 (ipykernel)",
   "language": "python",
   "name": "python3"
  },
  "language_info": {
   "codemirror_mode": {
    "name": "ipython",
    "version": 3
   },
   "file_extension": ".py",
   "mimetype": "text/x-python",
   "name": "python",
   "nbconvert_exporter": "python",
   "pygments_lexer": "ipython3",
   "version": "3.9.7"
  }
 },
 "nbformat": 4,
 "nbformat_minor": 2
}
