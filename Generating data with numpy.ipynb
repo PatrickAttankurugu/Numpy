{
 "cells": [
  {
   "cell_type": "markdown",
   "metadata": {},
   "source": [
    "# Generating Data with Numpy"
   ]
  },
  {
   "cell_type": "code",
   "execution_count": 1,
   "metadata": {},
   "outputs": [],
   "source": [
    "import numpy as np"
   ]
  },
  {
   "cell_type": "markdown",
   "metadata": {},
   "source": [
    "### np.empty(), np.zeros(), np.ones(), np.full()"
   ]
  },
  {
   "cell_type": "code",
   "execution_count": 2,
   "metadata": {},
   "outputs": [
    {
     "data": {
      "text/plain": [
       "array([[0., 0., 0.],\n",
       "       [0., 0., 0.]])"
      ]
     },
     "execution_count": 2,
     "metadata": {},
     "output_type": "execute_result"
    }
   ],
   "source": [
    "array_empty=np.empty(shape=(2,3))\n",
    "#the above code will create an empty two by three array\n",
    "array_empty"
   ]
  },
  {
   "cell_type": "markdown",
   "metadata": {},
   "source": [
    "But the problem with the above code is that, it can sometimes give us some random values including \n",
    "numbers greater than o. This is where  we have to us np.zeros if we want to obtain only zeros"
   ]
  },
  {
   "cell_type": "code",
   "execution_count": 3,
   "metadata": {},
   "outputs": [
    {
     "data": {
      "text/plain": [
       "array([[1.13352043e-153, 7.34728222e+228, 2.15779010e+185,\n",
       "        1.27617599e-152, 1.17549387e+214, 7.72482858e+228,\n",
       "        6.01346953e-154, 1.57430847e+161, 4.65541789e-072,\n",
       "        5.98129759e-154],\n",
       "       [1.06758000e+224, 4.46811730e-091, 5.98149672e-154,\n",
       "        3.43515227e+228, 6.01347002e-154, 2.28896090e+243,\n",
       "        1.28037489e-152, 2.34783525e+251, 4.83245960e+276,\n",
       "        1.71963045e+238],\n",
       "       [1.49005471e+195, 5.70727135e+188, 6.01334657e-154,\n",
       "        2.11776372e+214, 1.05893702e-153, 7.13144174e+252,\n",
       "        3.45060540e-085, 1.49003466e+195, 4.83245960e+276,\n",
       "        7.33956123e+223],\n",
       "       [2.31589513e+251, 6.01346953e-154, 9.92152605e+247,\n",
       "        4.91347540e+252, 2.66062477e-260, 1.27661731e-152,\n",
       "        6.01334659e-154, 4.47593816e-091, 1.15305479e+214,\n",
       "        2.46818315e-154],\n",
       "       [9.10016855e+276, 1.09854920e+248, 1.27734658e-152,\n",
       "        3.98220482e+209, 8.58149566e+170, 2.66061857e-260,\n",
       "        5.29965388e+180, 4.46811730e-091, 6.01346953e-154,\n",
       "        8.70860497e+183],\n",
       "       [1.69376034e+190, 4.82406565e+228, 3.68205013e+180,\n",
       "        8.90264987e+247, 1.05894728e-153, 1.16988754e+214,\n",
       "        9.78313099e-153, 2.52760136e-258, 5.56206154e+180,\n",
       "        6.01346953e-154],\n",
       "       [4.26957803e+257, 2.51230311e-091, 9.99223152e-014,\n",
       "        3.05004779e+156, 2.11784822e+214, 7.34728221e+228,\n",
       "        1.97101388e+156, 6.01346953e-154, 1.75486650e+097,\n",
       "        7.20530990e+159],\n",
       "       [3.81187276e+180, 1.09944918e+155, 1.09892467e+155,\n",
       "        1.32883994e+179, 1.97632844e+166, 2.04571143e-258,\n",
       "        5.81236386e+180, 2.58633920e+161, 2.42766858e-154,\n",
       "        3.64913061e+233],\n",
       "       [6.01346954e-154, 4.47593816e-091, 7.04142211e-009,\n",
       "        5.28595592e-085, 4.83245960e+276, 1.05118800e-153,\n",
       "        7.46502763e-067, 6.09215496e+247, 7.54951879e-096,\n",
       "        6.01334504e-154],\n",
       "       [2.45933175e-154, 3.55959779e+180, 1.03063392e-113,\n",
       "        1.49892842e-076, 1.39804329e-076, 5.20165019e-090,\n",
       "        5.46379155e-095, 6.01347002e-154, 6.01347002e-154,\n",
       "        3.26284768e+131]])"
      ]
     },
     "execution_count": 3,
     "metadata": {},
     "output_type": "execute_result"
    }
   ],
   "source": [
    "emptyArray=np.empty(shape=(10,10))\n",
    "emptyArray"
   ]
  },
  {
   "cell_type": "markdown",
   "metadata": {
    "scrolled": true
   },
   "source": [
    "Now check the code below for np.zeros"
   ]
  },
  {
   "cell_type": "code",
   "execution_count": 4,
   "metadata": {
    "scrolled": true
   },
   "outputs": [
    {
     "data": {
      "text/plain": [
       "array([[0., 0., 0.],\n",
       "       [0., 0., 0.]])"
      ]
     },
     "execution_count": 4,
     "metadata": {},
     "output_type": "execute_result"
    }
   ],
   "source": [
    "array_0s=np.zeros(shape=(2,3))\n",
    "array_0s"
   ]
  },
  {
   "cell_type": "code",
   "execution_count": 5,
   "metadata": {},
   "outputs": [
    {
     "data": {
      "text/plain": [
       "array([['1', '1', '1'],\n",
       "       ['1', '1', '1']], dtype='<U1')"
      ]
     },
     "execution_count": 5,
     "metadata": {},
     "output_type": "execute_result"
    }
   ],
   "source": [
    "array_0s=np.ones(shape=(2,3),dtype=str)\n",
    "array_0s"
   ]
  },
  {
   "cell_type": "code",
   "execution_count": 6,
   "metadata": {},
   "outputs": [
    {
     "data": {
      "text/plain": [
       "array([[1.13352043e-153, 7.34728222e+228, 2.15779010e+185,\n",
       "        1.27617599e-152, 1.17549387e+214, 7.72482858e+228,\n",
       "        6.01346953e-154, 1.57430847e+161, 4.65541789e-072,\n",
       "        5.98129759e-154],\n",
       "       [1.06758000e+224, 4.46811730e-091, 5.98149672e-154,\n",
       "        3.43515227e+228, 6.01347002e-154, 2.28896090e+243,\n",
       "        1.28037489e-152, 2.34783525e+251, 4.83245960e+276,\n",
       "        1.71963045e+238],\n",
       "       [1.49005471e+195, 5.70727135e+188, 6.01334657e-154,\n",
       "        2.11776372e+214, 1.05893702e-153, 7.13144174e+252,\n",
       "        3.45060540e-085, 1.49003466e+195, 4.83245960e+276,\n",
       "        7.33956123e+223],\n",
       "       [2.31589513e+251, 6.01346953e-154, 9.92152605e+247,\n",
       "        4.91347540e+252, 2.66062477e-260, 1.27661731e-152,\n",
       "        6.01334659e-154, 4.47593816e-091, 1.15305479e+214,\n",
       "        2.46818315e-154],\n",
       "       [9.10016855e+276, 1.09854920e+248, 1.27734658e-152,\n",
       "        3.98220482e+209, 8.58149566e+170, 2.66061857e-260,\n",
       "        5.29965388e+180, 4.46811730e-091, 6.01346953e-154,\n",
       "        8.70860497e+183],\n",
       "       [1.69376034e+190, 4.82406565e+228, 3.68205013e+180,\n",
       "        8.90264987e+247, 1.05894728e-153, 1.16988754e+214,\n",
       "        9.78313099e-153, 2.52760136e-258, 5.56206154e+180,\n",
       "        6.01346953e-154],\n",
       "       [4.26957803e+257, 2.51230311e-091, 9.99223152e-014,\n",
       "        3.05004779e+156, 2.11784822e+214, 7.34728221e+228,\n",
       "        1.97101388e+156, 6.01346953e-154, 1.75486650e+097,\n",
       "        7.20530990e+159],\n",
       "       [3.81187276e+180, 1.09944918e+155, 1.09892467e+155,\n",
       "        1.32883994e+179, 1.97632844e+166, 2.04571143e-258,\n",
       "        5.81236386e+180, 2.58633920e+161, 2.42766858e-154,\n",
       "        3.64913061e+233],\n",
       "       [6.01346954e-154, 4.47593816e-091, 7.04142211e-009,\n",
       "        5.28595592e-085, 4.83245960e+276, 1.05118800e-153,\n",
       "        7.46502763e-067, 6.09215496e+247, 7.54951879e-096,\n",
       "        6.01334504e-154],\n",
       "       [2.45933175e-154, 3.55959779e+180, 1.03063392e-113,\n",
       "        1.49892842e-076, 1.39804329e-076, 5.20165019e-090,\n",
       "        5.46379155e-095, 6.01347002e-154, 6.01347002e-154,\n",
       "        3.26284768e+131]])"
      ]
     },
     "execution_count": 6,
     "metadata": {},
     "output_type": "execute_result"
    }
   ],
   "source": [
    "array_empty=np.empty(shape=(10,10))\n",
    "array_empty"
   ]
  },
  {
   "cell_type": "code",
   "execution_count": null,
   "metadata": {},
   "outputs": [],
   "source": []
  },
  {
   "cell_type": "code",
   "execution_count": 7,
   "metadata": {},
   "outputs": [
    {
     "data": {
      "text/plain": [
       "array([[0, 0, 0],\n",
       "       [0, 0, 0]], dtype=int8)"
      ]
     },
     "execution_count": 7,
     "metadata": {},
     "output_type": "execute_result"
    }
   ],
   "source": [
    "array_0s=np.zeros(shape=(2,3),dtype=np.int8)\n",
    "array_0s"
   ]
  },
  {
   "cell_type": "markdown",
   "metadata": {},
   "source": [
    "another function used in filling our array with identical numbers is the np.full function\n",
    "It goes this way"
   ]
  },
  {
   "cell_type": "code",
   "execution_count": 8,
   "metadata": {},
   "outputs": [
    {
     "data": {
      "text/plain": [
       "array([[2, 2, 2],\n",
       "       [2, 2, 2]])"
      ]
     },
     "execution_count": 8,
     "metadata": {},
     "output_type": "execute_result"
    }
   ],
   "source": [
    "array_fill=np.full(shape=(2,3),fill_value=2)\n",
    "array_fill"
   ]
  },
  {
   "cell_type": "code",
   "execution_count": 9,
   "metadata": {},
   "outputs": [
    {
     "data": {
      "text/plain": [
       "array([[7, 7, 7, 7],\n",
       "       [7, 7, 7, 7],\n",
       "       [7, 7, 7, 7]])"
      ]
     },
     "execution_count": 9,
     "metadata": {},
     "output_type": "execute_result"
    }
   ],
   "source": [
    "array_fill=np.full(shape=(3,4),fill_value=7)\n",
    "array_fill"
   ]
  },
  {
   "cell_type": "markdown",
   "metadata": {},
   "source": [
    "so basically we can use np.full to fill any array with any numbers of our choice"
   ]
  },
  {
   "cell_type": "code",
   "execution_count": null,
   "metadata": {},
   "outputs": [],
   "source": []
  },
  {
   "cell_type": "markdown",
   "metadata": {},
   "source": [
    "### \"_like\" functions"
   ]
  },
  {
   "cell_type": "code",
   "execution_count": 10,
   "metadata": {},
   "outputs": [
    {
     "data": {
      "text/plain": [
       "array([[1, 3, 4, 5, 6],\n",
       "       [3, 5, 5, 6, 7],\n",
       "       [6, 7, 8, 9, 8]])"
      ]
     },
     "execution_count": 10,
     "metadata": {},
     "output_type": "execute_result"
    }
   ],
   "source": [
    "matrix_A=np.array([[1,3,4,5,6],[3,5,5,6,7],[6,7,8,9,8]])\n",
    "matrix_A"
   ]
  },
  {
   "cell_type": "code",
   "execution_count": 11,
   "metadata": {},
   "outputs": [
    {
     "data": {
      "text/plain": [
       "array([[      0,       0,       0,       0,       0],\n",
       "       [      0,       0,       0,       0,       0],\n",
       "       [   1468,       0,       0, 3342433,       0]])"
      ]
     },
     "execution_count": 11,
     "metadata": {},
     "output_type": "execute_result"
    }
   ],
   "source": [
    "array_empty_like=np.empty_like(matrix_A)\n",
    "array_empty_like\n"
   ]
  },
  {
   "cell_type": "code",
   "execution_count": 12,
   "metadata": {
    "scrolled": true
   },
   "outputs": [
    {
     "data": {
      "text/plain": [
       "array([[0, 0, 0, 0, 0],\n",
       "       [0, 0, 0, 0, 0],\n",
       "       [0, 0, 0, 0, 0]])"
      ]
     },
     "execution_count": 12,
     "metadata": {},
     "output_type": "execute_result"
    }
   ],
   "source": [
    " array_zeros_like=np.zeros_like(matrix_A)\n",
    "array_zeros_like"
   ]
  },
  {
   "cell_type": "code",
   "execution_count": null,
   "metadata": {},
   "outputs": [],
   "source": []
  },
  {
   "cell_type": "code",
   "execution_count": null,
   "metadata": {},
   "outputs": [],
   "source": []
  },
  {
   "cell_type": "code",
   "execution_count": null,
   "metadata": {},
   "outputs": [],
   "source": []
  },
  {
   "cell_type": "code",
   "execution_count": null,
   "metadata": {},
   "outputs": [],
   "source": []
  },
  {
   "cell_type": "markdown",
   "metadata": {},
   "source": [
    "### np.arange()"
   ]
  },
  {
   "cell_type": "markdown",
   "metadata": {},
   "source": [
    "The np.arange function is used to generate a sequence of consecutive numbers"
   ]
  },
  {
   "cell_type": "code",
   "execution_count": 14,
   "metadata": {},
   "outputs": [
    {
     "data": {
      "text/plain": [
       "array([ 1,  4,  7, 10, 13, 16, 19, 22, 25, 28])"
      ]
     },
     "execution_count": 14,
     "metadata": {},
     "output_type": "execute_result"
    }
   ],
   "source": [
    "array_rng=np.arange(1,30,3)\n",
    "array_rng"
   ]
  },
  {
   "cell_type": "code",
   "execution_count": null,
   "metadata": {},
   "outputs": [],
   "source": []
  },
  {
   "cell_type": "code",
   "execution_count": null,
   "metadata": {},
   "outputs": [],
   "source": []
  },
  {
   "cell_type": "code",
   "execution_count": null,
   "metadata": {},
   "outputs": [],
   "source": []
  },
  {
   "cell_type": "code",
   "execution_count": null,
   "metadata": {
    "scrolled": true
   },
   "outputs": [],
   "source": []
  },
  {
   "cell_type": "markdown",
   "metadata": {},
   "source": [
    "## Random Generators"
   ]
  },
  {
   "cell_type": "markdown",
   "metadata": {},
   "source": [
    "### Defining Random Generators"
   ]
  },
  {
   "cell_type": "code",
   "execution_count": null,
   "metadata": {},
   "outputs": [],
   "source": []
  },
  {
   "cell_type": "code",
   "execution_count": 15,
   "metadata": {},
   "outputs": [],
   "source": [
    "from numpy.random import Generator as gen\n",
    "from numpy.random import PCG64 as pcg\n",
    "\n",
    "#in actual sense , their full names are np.random.Generator and numpy.random"
   ]
  },
  {
   "cell_type": "code",
   "execution_count": null,
   "metadata": {},
   "outputs": [],
   "source": []
  },
  {
   "cell_type": "code",
   "execution_count": null,
   "metadata": {},
   "outputs": [],
   "source": []
  },
  {
   "cell_type": "markdown",
   "metadata": {},
   "source": [
    "### Generating Integers, Probabilities and Random Choices"
   ]
  },
  {
   "cell_type": "code",
   "execution_count": null,
   "metadata": {},
   "outputs": [],
   "source": []
  },
  {
   "cell_type": "code",
   "execution_count": null,
   "metadata": {},
   "outputs": [],
   "source": []
  },
  {
   "cell_type": "code",
   "execution_count": null,
   "metadata": {},
   "outputs": [],
   "source": []
  },
  {
   "cell_type": "markdown",
   "metadata": {},
   "source": [
    "### Generating Arrays From Known Distributions"
   ]
  },
  {
   "cell_type": "code",
   "execution_count": null,
   "metadata": {
    "scrolled": true
   },
   "outputs": [],
   "source": []
  },
  {
   "cell_type": "code",
   "execution_count": null,
   "metadata": {},
   "outputs": [],
   "source": []
  },
  {
   "cell_type": "code",
   "execution_count": null,
   "metadata": {},
   "outputs": [],
   "source": []
  },
  {
   "cell_type": "code",
   "execution_count": null,
   "metadata": {},
   "outputs": [],
   "source": []
  },
  {
   "cell_type": "markdown",
   "metadata": {},
   "source": [
    "https://numpy.org/doc/stable/reference/random/generator"
   ]
  },
  {
   "cell_type": "markdown",
   "metadata": {},
   "source": [
    "### Applications of Random Generators"
   ]
  },
  {
   "cell_type": "code",
   "execution_count": null,
   "metadata": {},
   "outputs": [],
   "source": []
  },
  {
   "cell_type": "code",
   "execution_count": null,
   "metadata": {},
   "outputs": [],
   "source": []
  },
  {
   "cell_type": "code",
   "execution_count": null,
   "metadata": {},
   "outputs": [],
   "source": []
  },
  {
   "cell_type": "code",
   "execution_count": null,
   "metadata": {},
   "outputs": [],
   "source": []
  },
  {
   "cell_type": "code",
   "execution_count": null,
   "metadata": {},
   "outputs": [],
   "source": []
  }
 ],
 "metadata": {
  "kernelspec": {
   "display_name": "Python 3 (ipykernel)",
   "language": "python",
   "name": "python3"
  },
  "language_info": {
   "codemirror_mode": {
    "name": "ipython",
    "version": 3
   },
   "file_extension": ".py",
   "mimetype": "text/x-python",
   "name": "python",
   "nbconvert_exporter": "python",
   "pygments_lexer": "ipython3",
   "version": "3.9.7"
  }
 },
 "nbformat": 4,
 "nbformat_minor": 2
}
