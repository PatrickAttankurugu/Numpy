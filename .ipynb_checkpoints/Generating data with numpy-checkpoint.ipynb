{
 "cells": [
  {
   "cell_type": "markdown",
   "metadata": {},
   "source": [
    "# Generating Data with Numpy"
   ]
  },
  {
   "cell_type": "code",
   "execution_count": 1,
   "metadata": {},
   "outputs": [],
   "source": [
    "import numpy as np"
   ]
  },
  {
   "cell_type": "markdown",
   "metadata": {},
   "source": [
    "### np.empty(), np.zeros(), np.ones(), np.full()"
   ]
  },
  {
   "cell_type": "code",
   "execution_count": 2,
   "metadata": {},
   "outputs": [
    {
     "data": {
      "text/plain": [
       "array([[0., 0., 0.],\n",
       "       [0., 0., 0.]])"
      ]
     },
     "execution_count": 2,
     "metadata": {},
     "output_type": "execute_result"
    }
   ],
   "source": [
    "array_empty=np.empty(shape=(2,3))\n",
    "#the above code will create an empty two by three array\n",
    "array_empty"
   ]
  },
  {
   "cell_type": "markdown",
   "metadata": {},
   "source": [
    "But the problem with the above code is that, it can sometimes give us some random values including \n",
    "numbers greater than o. This is where  we have to us np.zeros if we want to obtain only zeros"
   ]
  },
  {
   "cell_type": "code",
   "execution_count": 3,
   "metadata": {},
   "outputs": [
    {
     "data": {
      "text/plain": [
       "array([[ 2.12989601e+289,  5.01841928e+202,  3.82677008e+289,\n",
       "         1.48098245e+294,  2.04069375e+293,  3.59433374e+207,\n",
       "         1.12458665e+251,  1.44710090e+188,  2.60089033e-212,\n",
       "        -6.69076117e-246],\n",
       "       [-1.63007016e-154,  7.90195529e+221,  3.82677008e+289,\n",
       "        -6.97680564e-246,  1.68590696e-288,  2.23041621e-303,\n",
       "         6.72448281e+202,  7.84984844e+173, -3.18350551e-294,\n",
       "         1.48098488e+294],\n",
       "       [ 1.97190790e+289,  4.37473702e+290,  4.20935260e+294,\n",
       "         2.87637027e-188,  3.55528057e+072,  2.23363928e+236,\n",
       "         6.25921287e+250,  1.01719076e+251, -1.49046458e-231,\n",
       "         6.33301788e+173],\n",
       "       [ 2.12989601e+289, -1.72414504e-231,  2.60858545e+289,\n",
       "         3.39394644e-111,  6.01346953e-154,  2.43390117e-152,\n",
       "         3.98220466e+209,  6.01347002e-154,  2.95804892e+242,\n",
       "         1.18666249e-309],\n",
       "       [ 2.14800214e-152,  2.94261135e-314,  0.00000000e+000,\n",
       "         1.27319747e-313,  1.65409572e-310,  3.57068423e+294,\n",
       "         6.22980874e+250, -3.14680817e-294,  1.36063223e+241,\n",
       "         2.64252136e-309],\n",
       "       [-2.00497880e+190,  4.12612135e-312,  4.65841463e-304,\n",
       "        -5.40541236e+257,  6.04851576e+247,  4.83245908e+276,\n",
       "         2.07053179e+161,  5.35101032e+228,  2.37174397e+213,\n",
       "         6.11971352e-008],\n",
       "       [ 1.33360416e+241,  6.48863873e-310,  5.40541213e+257,\n",
       "         3.57440244e-312,  9.87217921e-300, -3.38460988e+125,\n",
       "         1.88200772e-309,  8.31833571e-273,  1.89118782e+219,\n",
       "         9.94042685e-312],\n",
       "       [ 6.21073741e-306,  1.33360422e+241,  1.55062720e-309,\n",
       "        -2.80665045e+291,  4.48686063e-312,  1.33360452e+241,\n",
       "         3.33789938e-310,  6.32301052e+233,  4.78415900e+180,\n",
       "        -3.71639350e+127],\n",
       "       [ 1.33360385e+241,  1.06171937e-309,  3.84443765e-244,\n",
       "         6.17113003e-315,  2.18454552e-289,  5.88411987e-222,\n",
       "         1.27829375e-202,  3.19125804e-241,  5.10495676e-299,\n",
       "         2.52605674e-212],\n",
       "       [ 4.43480895e-246,  5.50735342e-193,  4.02977881e-270,\n",
       "         3.55959754e+180,  3.11730544e+150,  3.98220569e+209,\n",
       "         1.15066382e-316,  7.29112202e-304,  5.62949958e+014,\n",
       "         2.21731982e-313]])"
      ]
     },
     "execution_count": 3,
     "metadata": {},
     "output_type": "execute_result"
    }
   ],
   "source": [
    "emptyArray=np.empty(shape=(10,10))\n",
    "emptyArray"
   ]
  },
  {
   "cell_type": "markdown",
   "metadata": {
    "scrolled": true
   },
   "source": [
    "Now check the code below for np.zeros"
   ]
  },
  {
   "cell_type": "code",
   "execution_count": 4,
   "metadata": {
    "scrolled": true
   },
   "outputs": [
    {
     "data": {
      "text/plain": [
       "array([[0., 0., 0.],\n",
       "       [0., 0., 0.]])"
      ]
     },
     "execution_count": 4,
     "metadata": {},
     "output_type": "execute_result"
    }
   ],
   "source": [
    "array_0s=np.zeros(shape=(2,3))\n",
    "array_0s"
   ]
  },
  {
   "cell_type": "code",
   "execution_count": 5,
   "metadata": {},
   "outputs": [
    {
     "data": {
      "text/plain": [
       "array([['1', '1', '1'],\n",
       "       ['1', '1', '1']], dtype='<U1')"
      ]
     },
     "execution_count": 5,
     "metadata": {},
     "output_type": "execute_result"
    }
   ],
   "source": [
    "array_0s=np.ones(shape=(2,3),dtype=str)\n",
    "array_0s"
   ]
  },
  {
   "cell_type": "code",
   "execution_count": 6,
   "metadata": {},
   "outputs": [
    {
     "data": {
      "text/plain": [
       "array([[ 2.12989601e+289,  5.01841928e+202,  3.82677008e+289,\n",
       "         1.48098245e+294,  2.04069375e+293,  3.59433374e+207,\n",
       "         1.12458665e+251,  1.44710090e+188,  2.60089033e-212,\n",
       "        -6.69076117e-246],\n",
       "       [-1.63007016e-154,  7.90195529e+221,  3.82677008e+289,\n",
       "        -6.97680564e-246,  1.68590696e-288,  2.23041621e-303,\n",
       "         6.72448281e+202,  7.84984844e+173, -3.18350551e-294,\n",
       "         1.48098488e+294],\n",
       "       [ 1.97190790e+289,  4.37473702e+290,  4.20935260e+294,\n",
       "         2.87637027e-188,  3.55528057e+072,  2.23363928e+236,\n",
       "         6.25921287e+250,  1.01719076e+251, -1.49046458e-231,\n",
       "         6.33301788e+173],\n",
       "       [ 2.12989601e+289, -1.72414504e-231,  2.60858545e+289,\n",
       "         3.39394644e-111,  6.01346953e-154,  2.43390117e-152,\n",
       "         3.98220466e+209,  6.01347002e-154,  2.95804892e+242,\n",
       "         1.18666249e-309],\n",
       "       [ 2.14800214e-152,  2.94261135e-314,  0.00000000e+000,\n",
       "         1.27319747e-313,  1.65409572e-310,  3.57068423e+294,\n",
       "         6.22980874e+250, -3.14680817e-294,  1.36063223e+241,\n",
       "         2.64252136e-309],\n",
       "       [-2.00497880e+190,  4.12612135e-312,  4.65841463e-304,\n",
       "        -5.40541236e+257,  6.04851576e+247,  4.83245908e+276,\n",
       "         2.07053179e+161,  5.35101032e+228,  2.37174397e+213,\n",
       "         6.11971352e-008],\n",
       "       [ 1.33360416e+241,  6.48863873e-310,  5.40541213e+257,\n",
       "         3.57440244e-312,  9.87217921e-300, -3.38460988e+125,\n",
       "         1.88200772e-309,  8.31833571e-273,  1.89118782e+219,\n",
       "         9.94042685e-312],\n",
       "       [ 6.21073741e-306,  1.33360422e+241,  1.55062720e-309,\n",
       "        -2.80665045e+291,  4.48686063e-312,  1.33360452e+241,\n",
       "         3.33789938e-310,  6.32301052e+233,  4.78415900e+180,\n",
       "        -3.71639350e+127],\n",
       "       [ 1.33360385e+241,  1.06171937e-309,  3.84443765e-244,\n",
       "         6.17113003e-315,  2.18454552e-289,  5.88411987e-222,\n",
       "         1.27829375e-202,  3.19125804e-241,  5.10495676e-299,\n",
       "         2.52605674e-212],\n",
       "       [ 4.43480895e-246,  5.50735342e-193,  4.02977881e-270,\n",
       "         3.55959754e+180,  3.11730544e+150,  3.98220569e+209,\n",
       "         1.15066382e-316,  7.29112202e-304,  5.62949958e+014,\n",
       "         2.21731982e-313]])"
      ]
     },
     "execution_count": 6,
     "metadata": {},
     "output_type": "execute_result"
    }
   ],
   "source": [
    "array_empty=np.empty(shape=(10,10))\n",
    "array_empty"
   ]
  },
  {
   "cell_type": "code",
   "execution_count": null,
   "metadata": {},
   "outputs": [],
   "source": []
  },
  {
   "cell_type": "code",
   "execution_count": 7,
   "metadata": {},
   "outputs": [
    {
     "data": {
      "text/plain": [
       "array([[0, 0, 0],\n",
       "       [0, 0, 0]], dtype=int8)"
      ]
     },
     "execution_count": 7,
     "metadata": {},
     "output_type": "execute_result"
    }
   ],
   "source": [
    "array_0s=np.zeros(shape=(2,3),dtype=np.int8)\n",
    "array_0s"
   ]
  },
  {
   "cell_type": "markdown",
   "metadata": {},
   "source": [
    "another function used in filling our array with identical numbers is the np.full function\n",
    "It goes this way"
   ]
  },
  {
   "cell_type": "code",
   "execution_count": 8,
   "metadata": {},
   "outputs": [
    {
     "data": {
      "text/plain": [
       "array([[2, 2, 2],\n",
       "       [2, 2, 2]])"
      ]
     },
     "execution_count": 8,
     "metadata": {},
     "output_type": "execute_result"
    }
   ],
   "source": [
    "array_fill=np.full(shape=(2,3),fill_value=2)\n",
    "array_fill"
   ]
  },
  {
   "cell_type": "code",
   "execution_count": 9,
   "metadata": {},
   "outputs": [
    {
     "data": {
      "text/plain": [
       "array([[7, 7, 7, 7],\n",
       "       [7, 7, 7, 7],\n",
       "       [7, 7, 7, 7]])"
      ]
     },
     "execution_count": 9,
     "metadata": {},
     "output_type": "execute_result"
    }
   ],
   "source": [
    "array_fill=np.full(shape=(3,4),fill_value=7)\n",
    "array_fill"
   ]
  },
  {
   "cell_type": "markdown",
   "metadata": {},
   "source": [
    "so basically we can use np.full to fill any array with any numbers of our choice"
   ]
  },
  {
   "cell_type": "code",
   "execution_count": null,
   "metadata": {},
   "outputs": [],
   "source": []
  },
  {
   "cell_type": "markdown",
   "metadata": {},
   "source": [
    "### \"_like\" functions"
   ]
  },
  {
   "cell_type": "code",
   "execution_count": 10,
   "metadata": {},
   "outputs": [
    {
     "data": {
      "text/plain": [
       "array([[1, 3, 4, 5, 6],\n",
       "       [3, 5, 5, 6, 7],\n",
       "       [6, 7, 8, 9, 8]])"
      ]
     },
     "execution_count": 10,
     "metadata": {},
     "output_type": "execute_result"
    }
   ],
   "source": [
    "matrix_A=np.array([[1,3,4,5,6],[3,5,5,6,7],[6,7,8,9,8]])\n",
    "matrix_A"
   ]
  },
  {
   "cell_type": "code",
   "execution_count": 11,
   "metadata": {},
   "outputs": [
    {
     "data": {
      "text/plain": [
       "array([[   0,    0,    0,    0,    0],\n",
       "       [   0,    0,    0,    0,    0],\n",
       "       [1476,    0,    0,    0,    0]])"
      ]
     },
     "execution_count": 11,
     "metadata": {},
     "output_type": "execute_result"
    }
   ],
   "source": [
    "array_empty_like=np.empty_like(matrix_A)\n",
    "array_empty_like\n"
   ]
  },
  {
   "cell_type": "code",
   "execution_count": 12,
   "metadata": {
    "scrolled": true
   },
   "outputs": [
    {
     "data": {
      "text/plain": [
       "array([[0, 0, 0, 0, 0],\n",
       "       [0, 0, 0, 0, 0],\n",
       "       [0, 0, 0, 0, 0]])"
      ]
     },
     "execution_count": 12,
     "metadata": {},
     "output_type": "execute_result"
    }
   ],
   "source": [
    " array_zeros_like=np.zeros_like(matrix_A)\n",
    "array_zeros_like"
   ]
  },
  {
   "cell_type": "code",
   "execution_count": null,
   "metadata": {},
   "outputs": [],
   "source": []
  },
  {
   "cell_type": "code",
   "execution_count": null,
   "metadata": {},
   "outputs": [],
   "source": []
  },
  {
   "cell_type": "code",
   "execution_count": null,
   "metadata": {},
   "outputs": [],
   "source": []
  },
  {
   "cell_type": "code",
   "execution_count": null,
   "metadata": {},
   "outputs": [],
   "source": []
  },
  {
   "cell_type": "markdown",
   "metadata": {},
   "source": [
    "### np.arange()"
   ]
  },
  {
   "cell_type": "markdown",
   "metadata": {},
   "source": [
    "The np.arange function is used to generate a sequence of consecutive numbers"
   ]
  },
  {
   "cell_type": "code",
   "execution_count": 13,
   "metadata": {},
   "outputs": [
    {
     "data": {
      "text/plain": [
       "array([ 1,  4,  7, 10, 13, 16, 19, 22, 25, 28])"
      ]
     },
     "execution_count": 13,
     "metadata": {},
     "output_type": "execute_result"
    }
   ],
   "source": [
    "array_rng=np.arange(1,30,3)\n",
    "array_rng"
   ]
  },
  {
   "cell_type": "code",
   "execution_count": null,
   "metadata": {},
   "outputs": [],
   "source": []
  },
  {
   "cell_type": "code",
   "execution_count": null,
   "metadata": {},
   "outputs": [],
   "source": []
  },
  {
   "cell_type": "code",
   "execution_count": null,
   "metadata": {},
   "outputs": [],
   "source": []
  },
  {
   "cell_type": "code",
   "execution_count": null,
   "metadata": {
    "scrolled": true
   },
   "outputs": [],
   "source": []
  },
  {
   "cell_type": "markdown",
   "metadata": {},
   "source": [
    "## Random Generators"
   ]
  },
  {
   "cell_type": "markdown",
   "metadata": {},
   "source": [
    "### Defining Random Generators"
   ]
  },
  {
   "cell_type": "code",
   "execution_count": null,
   "metadata": {},
   "outputs": [],
   "source": []
  },
  {
   "cell_type": "code",
   "execution_count": 14,
   "metadata": {},
   "outputs": [],
   "source": [
    "from numpy.random import Generator as gen\n",
    "from numpy.random import PCG64 as pcg\n",
    "\n",
    "#in actual sense , their full names are np.random.Generator and numpy.random\n",
    "# PCG stands for Permutation Congruential Generator"
   ]
  },
  {
   "cell_type": "code",
   "execution_count": 15,
   "metadata": {},
   "outputs": [
    {
     "data": {
      "text/plain": [
       "array([ 0.40363671, -0.52305138,  0.54546222,  0.7980638 ,  0.08969348])"
      ]
     },
     "execution_count": 15,
     "metadata": {},
     "output_type": "execute_result"
    }
   ],
   "source": [
    "array_RG=gen(pcg())\n",
    "array_RG.normal(size=5)\n",
    "#this generates a random number from the standard normal distribution"
   ]
  },
  {
   "cell_type": "code",
   "execution_count": 16,
   "metadata": {},
   "outputs": [
    {
     "data": {
      "text/plain": [
       "array([[ 0.85032151,  2.38326688,  1.54955448,  0.61734068, -1.49464802],\n",
       "       [-0.23908075,  1.60682305, -1.36891535, -0.687979  , -0.28674652],\n",
       "       [ 0.53390001,  0.68838262, -0.78252273,  1.62011725,  0.17897661],\n",
       "       [ 1.01587515,  0.9525451 , -1.71798305, -1.35085723,  2.08903407],\n",
       "       [-0.45655284, -0.01125838, -0.56527673, -0.50462143, -1.07322463]])"
      ]
     },
     "execution_count": 16,
     "metadata": {},
     "output_type": "execute_result"
    }
   ],
   "source": [
    "array_RG=gen(pcg())\n",
    "array_RG.normal(size=(5,5))\n",
    "#The only problem with thi code is that every time we run this cell,  we will always get different output\n",
    "#in that case we need to introduce seed=365 to the pcg method"
   ]
  },
  {
   "cell_type": "code",
   "execution_count": 17,
   "metadata": {},
   "outputs": [
    {
     "data": {
      "text/plain": [
       "array([[-0.13640899,  0.09414431, -0.06300442,  1.05391641, -0.6866818 ],\n",
       "       [-0.50922173, -0.7999526 ,  0.73041825,  0.08825439, -2.1177576 ],\n",
       "       [ 0.65526774, -0.48095012, -0.5519114 , -0.58578662, -0.98257896],\n",
       "       [ 1.12378166, -1.30984316, -0.04703774,  0.955272  ,  0.26071745],\n",
       "       [-0.20023668, -1.50172484, -1.4929163 ,  0.96535084,  1.18694633]])"
      ]
     },
     "execution_count": 17,
     "metadata": {},
     "output_type": "execute_result"
    }
   ],
   "source": [
    "array_RG=gen(pcg(seed=365))\n",
    "array_RG.normal(size=(5,5))\n",
    "#sometimes we want to generate some random dataset to test our model \n",
    "\n"
   ]
  },
  {
   "cell_type": "markdown",
   "metadata": {},
   "source": [
    "With the above code , we will always get the same output. Hence we can always use that to generate \n",
    "some random dataset to test our model"
   ]
  },
  {
   "cell_type": "markdown",
   "metadata": {},
   "source": [
    "### Generating Integers, Probabilities and Random Choices"
   ]
  },
  {
   "cell_type": "code",
   "execution_count": null,
   "metadata": {},
   "outputs": [],
   "source": [
    "array_RG=gen(pcg(seed=365))"
   ]
  },
  {
   "cell_type": "code",
   "execution_count": null,
   "metadata": {},
   "outputs": [],
   "source": []
  },
  {
   "cell_type": "code",
   "execution_count": null,
   "metadata": {},
   "outputs": [],
   "source": []
  },
  {
   "cell_type": "markdown",
   "metadata": {},
   "source": [
    "### Generating Arrays From Known Distributions"
   ]
  },
  {
   "cell_type": "code",
   "execution_count": null,
   "metadata": {
    "scrolled": true
   },
   "outputs": [],
   "source": []
  },
  {
   "cell_type": "code",
   "execution_count": null,
   "metadata": {},
   "outputs": [],
   "source": []
  },
  {
   "cell_type": "code",
   "execution_count": null,
   "metadata": {},
   "outputs": [],
   "source": []
  },
  {
   "cell_type": "code",
   "execution_count": null,
   "metadata": {},
   "outputs": [],
   "source": []
  },
  {
   "cell_type": "markdown",
   "metadata": {},
   "source": [
    "https://numpy.org/doc/stable/reference/random/generator"
   ]
  },
  {
   "cell_type": "markdown",
   "metadata": {},
   "source": [
    "### Applications of Random Generators"
   ]
  },
  {
   "cell_type": "code",
   "execution_count": null,
   "metadata": {},
   "outputs": [],
   "source": []
  },
  {
   "cell_type": "code",
   "execution_count": null,
   "metadata": {},
   "outputs": [],
   "source": []
  },
  {
   "cell_type": "code",
   "execution_count": null,
   "metadata": {},
   "outputs": [],
   "source": []
  },
  {
   "cell_type": "code",
   "execution_count": null,
   "metadata": {},
   "outputs": [],
   "source": []
  },
  {
   "cell_type": "code",
   "execution_count": null,
   "metadata": {},
   "outputs": [],
   "source": []
  }
 ],
 "metadata": {
  "kernelspec": {
   "display_name": "Python 3 (ipykernel)",
   "language": "python",
   "name": "python3"
  },
  "language_info": {
   "codemirror_mode": {
    "name": "ipython",
    "version": 3
   },
   "file_extension": ".py",
   "mimetype": "text/x-python",
   "name": "python",
   "nbconvert_exporter": "python",
   "pygments_lexer": "ipython3",
   "version": "3.9.7"
  }
 },
 "nbformat": 4,
 "nbformat_minor": 2
}
