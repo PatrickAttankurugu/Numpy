{
 "cells": [
  {
   "cell_type": "code",
   "execution_count": 5,
   "id": "f3e4dbce",
   "metadata": {},
   "outputs": [],
   "source": [
    "import numpy as np"
   ]
  },
  {
   "cell_type": "code",
   "execution_count": 6,
   "id": "aa593f2a",
   "metadata": {},
   "outputs": [],
   "source": [
    "array_a=np.array([1,2,3])"
   ]
  },
  {
   "cell_type": "code",
   "execution_count": 7,
   "id": "3f482a86",
   "metadata": {},
   "outputs": [
    {
     "data": {
      "text/plain": [
       "array([1, 2, 3])"
      ]
     },
     "execution_count": 7,
     "metadata": {},
     "output_type": "execute_result"
    }
   ],
   "source": [
    "array_a"
   ]
  },
  {
   "cell_type": "code",
   "execution_count": 8,
   "id": "425494c8",
   "metadata": {},
   "outputs": [],
   "source": [
    "array_b=np.array([[1,2,3],[3,4,5],[6,7,8]])"
   ]
  },
  {
   "cell_type": "code",
   "execution_count": 9,
   "id": "efcab995",
   "metadata": {},
   "outputs": [
    {
     "data": {
      "text/plain": [
       "array([[1, 2, 3],\n",
       "       [3, 4, 5],\n",
       "       [6, 7, 8]])"
      ]
     },
     "execution_count": 9,
     "metadata": {},
     "output_type": "execute_result"
    }
   ],
   "source": [
    "array_b"
   ]
  },
  {
   "cell_type": "code",
   "execution_count": 10,
   "id": "434d752c",
   "metadata": {},
   "outputs": [
    {
     "data": {
      "text/plain": [
       "array([3.33333333, 4.33333333, 5.33333333])"
      ]
     },
     "execution_count": 10,
     "metadata": {},
     "output_type": "execute_result"
    }
   ],
   "source": [
    "np.mean(array_b,axis=0)"
   ]
  },
  {
   "cell_type": "code",
   "execution_count": 11,
   "id": "4feeadf4",
   "metadata": {},
   "outputs": [],
   "source": [
    "array1=np.array([[1,2,3],[4,5,6]])"
   ]
  },
  {
   "cell_type": "code",
   "execution_count": 12,
   "id": "f42ba901",
   "metadata": {},
   "outputs": [
    {
     "data": {
      "text/plain": [
       "array([[1, 2, 3],\n",
       "       [4, 5, 6]])"
      ]
     },
     "execution_count": 12,
     "metadata": {},
     "output_type": "execute_result"
    }
   ],
   "source": [
    "array1"
   ]
  },
  {
   "cell_type": "code",
   "execution_count": 13,
   "id": "ece49aef",
   "metadata": {},
   "outputs": [
    {
     "data": {
      "text/plain": [
       "numpy.ndarray"
      ]
     },
     "execution_count": 13,
     "metadata": {},
     "output_type": "execute_result"
    }
   ],
   "source": [
    "type(array1)"
   ]
  },
  {
   "cell_type": "code",
   "execution_count": 14,
   "id": "11063ec4",
   "metadata": {},
   "outputs": [
    {
     "data": {
      "text/plain": [
       "(2, 3)"
      ]
     },
     "execution_count": 14,
     "metadata": {},
     "output_type": "execute_result"
    }
   ],
   "source": [
    "array1.shape"
   ]
  },
  {
   "cell_type": "code",
   "execution_count": 15,
   "id": "75dedef8",
   "metadata": {},
   "outputs": [],
   "source": [
    "list_a=[[1,2,3,6],[4,5,6,8],[7,8,9,9]]"
   ]
  },
  {
   "cell_type": "code",
   "execution_count": 16,
   "id": "54863dcd",
   "metadata": {},
   "outputs": [
    {
     "data": {
      "text/plain": [
       "3"
      ]
     },
     "execution_count": 16,
     "metadata": {},
     "output_type": "execute_result"
    }
   ],
   "source": [
    "len(list_a)"
   ]
  },
  {
   "cell_type": "code",
   "execution_count": 17,
   "id": "395f5e33",
   "metadata": {},
   "outputs": [
    {
     "data": {
      "text/plain": [
       "list"
      ]
     },
     "execution_count": 17,
     "metadata": {},
     "output_type": "execute_result"
    }
   ],
   "source": [
    "type(list_a)"
   ]
  },
  {
   "cell_type": "code",
   "execution_count": 18,
   "id": "6e55b9ea",
   "metadata": {},
   "outputs": [
    {
     "data": {
      "text/plain": [
       "numpy.ndarray"
      ]
     },
     "execution_count": 18,
     "metadata": {},
     "output_type": "execute_result"
    }
   ],
   "source": [
    "type(array_a)"
   ]
  },
  {
   "cell_type": "code",
   "execution_count": 19,
   "id": "c9ce7ec1",
   "metadata": {},
   "outputs": [],
   "source": [
    "confuse=np.array([1,2,3])"
   ]
  },
  {
   "cell_type": "code",
   "execution_count": 20,
   "id": "f6e2d951",
   "metadata": {},
   "outputs": [
    {
     "data": {
      "text/plain": [
       "array([1, 2, 3])"
      ]
     },
     "execution_count": 20,
     "metadata": {},
     "output_type": "execute_result"
    }
   ],
   "source": [
    "confuse"
   ]
  },
  {
   "cell_type": "code",
   "execution_count": 21,
   "id": "028659e8",
   "metadata": {},
   "outputs": [
    {
     "data": {
      "text/plain": [
       "3"
      ]
     },
     "execution_count": 21,
     "metadata": {},
     "output_type": "execute_result"
    }
   ],
   "source": [
    "len(list_a)"
   ]
  },
  {
   "cell_type": "code",
   "execution_count": 22,
   "id": "28f0ea07",
   "metadata": {},
   "outputs": [
    {
     "data": {
      "text/plain": [
       "4"
      ]
     },
     "execution_count": 22,
     "metadata": {},
     "output_type": "execute_result"
    }
   ],
   "source": [
    "len(list_a[0])"
   ]
  },
  {
   "cell_type": "code",
   "execution_count": 23,
   "id": "8cc5e1df",
   "metadata": {},
   "outputs": [
    {
     "data": {
      "text/plain": [
       "3"
      ]
     },
     "execution_count": 23,
     "metadata": {},
     "output_type": "execute_result"
    }
   ],
   "source": [
    "len(list_a)"
   ]
  },
  {
   "cell_type": "code",
   "execution_count": 24,
   "id": "dab768ee",
   "metadata": {},
   "outputs": [
    {
     "data": {
      "text/plain": [
       "4"
      ]
     },
     "execution_count": 24,
     "metadata": {},
     "output_type": "execute_result"
    }
   ],
   "source": [
    "len(list_a[0])"
   ]
  },
  {
   "cell_type": "code",
   "execution_count": 25,
   "id": "eeb9eb07",
   "metadata": {},
   "outputs": [
    {
     "data": {
      "text/plain": [
       "4"
      ]
     },
     "execution_count": 25,
     "metadata": {},
     "output_type": "execute_result"
    }
   ],
   "source": [
    "len(list_a[2])"
   ]
  },
  {
   "cell_type": "code",
   "execution_count": 26,
   "id": "ea405a7b",
   "metadata": {},
   "outputs": [
    {
     "name": "stdout",
     "output_type": "stream",
     "text": [
      "[[1, 2, 3, 6], [4, 5, 6, 8], [7, 8, 9, 9]]\n"
     ]
    }
   ],
   "source": [
    "print(list_a)"
   ]
  },
  {
   "cell_type": "code",
   "execution_count": 27,
   "id": "aeff6a38",
   "metadata": {},
   "outputs": [],
   "source": [
    "p=list_a"
   ]
  },
  {
   "cell_type": "code",
   "execution_count": 28,
   "id": "42277765",
   "metadata": {},
   "outputs": [
    {
     "data": {
      "text/plain": [
       "array([[1, 2, 3, 6],\n",
       "       [4, 5, 6, 8],\n",
       "       [7, 8, 9, 9]])"
      ]
     },
     "execution_count": 28,
     "metadata": {},
     "output_type": "execute_result"
    }
   ],
   "source": [
    "np.array(p)"
   ]
  },
  {
   "cell_type": "code",
   "execution_count": 29,
   "id": "4edb22c0",
   "metadata": {},
   "outputs": [],
   "source": [
    "list_b=list_a[0]+list_a[1]"
   ]
  },
  {
   "cell_type": "code",
   "execution_count": 30,
   "id": "c058e5c6",
   "metadata": {},
   "outputs": [
    {
     "data": {
      "text/plain": [
       "[1, 2, 3, 6, 4, 5, 6, 8]"
      ]
     },
     "execution_count": 30,
     "metadata": {},
     "output_type": "execute_result"
    }
   ],
   "source": [
    "list_b"
   ]
  },
  {
   "cell_type": "code",
   "execution_count": 31,
   "id": "bc3f6843",
   "metadata": {},
   "outputs": [],
   "source": [
    "array_b=array_a[0]+array_a[1]"
   ]
  },
  {
   "cell_type": "code",
   "execution_count": 32,
   "id": "3ad6e8be",
   "metadata": {},
   "outputs": [
    {
     "data": {
      "text/plain": [
       "3"
      ]
     },
     "execution_count": 32,
     "metadata": {},
     "output_type": "execute_result"
    }
   ],
   "source": [
    "array_b"
   ]
  },
  {
   "cell_type": "code",
   "execution_count": 33,
   "id": "160b37c5",
   "metadata": {},
   "outputs": [
    {
     "data": {
      "text/plain": [
       "array([1.        , 1.41421356, 1.73205081])"
      ]
     },
     "execution_count": 33,
     "metadata": {},
     "output_type": "execute_result"
    }
   ],
   "source": [
    "np.sqrt(array_a)"
   ]
  },
  {
   "cell_type": "markdown",
   "id": "09cdba8e",
   "metadata": {},
   "source": [
    "NUMPY FUNDAMENTALS"
   ]
  },
  {
   "cell_type": "code",
   "execution_count": 34,
   "id": "9bb7a060",
   "metadata": {},
   "outputs": [],
   "source": [
    "array_z=np.array([[2,3,4,5],[5,6,7,78],[3,4,7,5]])"
   ]
  },
  {
   "cell_type": "code",
   "execution_count": 35,
   "id": "e45a521a",
   "metadata": {},
   "outputs": [
    {
     "data": {
      "text/plain": [
       "array([[ 2,  3,  4,  5],\n",
       "       [ 5,  6,  7, 78],\n",
       "       [ 3,  4,  7,  5]])"
      ]
     },
     "execution_count": 35,
     "metadata": {},
     "output_type": "execute_result"
    }
   ],
   "source": [
    "array_z"
   ]
  },
  {
   "cell_type": "code",
   "execution_count": 36,
   "id": "0c933db7",
   "metadata": {},
   "outputs": [
    {
     "data": {
      "text/plain": [
       "array([2, 3, 4, 5])"
      ]
     },
     "execution_count": 36,
     "metadata": {},
     "output_type": "execute_result"
    }
   ],
   "source": [
    "array_z[0]"
   ]
  },
  {
   "cell_type": "code",
   "execution_count": 37,
   "id": "7ae15542",
   "metadata": {},
   "outputs": [
    {
     "data": {
      "text/plain": [
       "3"
      ]
     },
     "execution_count": 37,
     "metadata": {},
     "output_type": "execute_result"
    }
   ],
   "source": [
    "array_z[0][1]"
   ]
  },
  {
   "cell_type": "code",
   "execution_count": 38,
   "id": "97e11e1a",
   "metadata": {},
   "outputs": [
    {
     "data": {
      "text/plain": [
       "7"
      ]
     },
     "execution_count": 38,
     "metadata": {},
     "output_type": "execute_result"
    }
   ],
   "source": [
    "array_z[2][2]"
   ]
  },
  {
   "cell_type": "code",
   "execution_count": 39,
   "id": "898a5538",
   "metadata": {},
   "outputs": [
    {
     "data": {
      "text/plain": [
       "5"
      ]
     },
     "execution_count": 39,
     "metadata": {},
     "output_type": "execute_result"
    }
   ],
   "source": [
    "array_z[2][3]"
   ]
  },
  {
   "cell_type": "code",
   "execution_count": 40,
   "id": "3d81bb46",
   "metadata": {},
   "outputs": [
    {
     "data": {
      "text/plain": [
       "array([3, 4, 7, 5])"
      ]
     },
     "execution_count": 40,
     "metadata": {},
     "output_type": "execute_result"
    }
   ],
   "source": [
    "array_z[-1]"
   ]
  },
  {
   "cell_type": "code",
   "execution_count": 41,
   "id": "707adc2d",
   "metadata": {},
   "outputs": [
    {
     "data": {
      "text/plain": [
       "array([ 5,  6,  7, 78])"
      ]
     },
     "execution_count": 41,
     "metadata": {},
     "output_type": "execute_result"
    }
   ],
   "source": [
    "array_z[-2]"
   ]
  },
  {
   "cell_type": "markdown",
   "id": "b1b7e19a",
   "metadata": {},
   "source": [
    "We can assign values to individual elements of an array. See the code below. "
   ]
  },
  {
   "cell_type": "code",
   "execution_count": 42,
   "id": "f3a7bc02",
   "metadata": {},
   "outputs": [],
   "source": [
    "array_z[0,3]=9"
   ]
  },
  {
   "cell_type": "code",
   "execution_count": 43,
   "id": "8716f090",
   "metadata": {},
   "outputs": [
    {
     "data": {
      "text/plain": [
       "array([[ 2,  3,  4,  9],\n",
       "       [ 5,  6,  7, 78],\n",
       "       [ 3,  4,  7,  5]])"
      ]
     },
     "execution_count": 43,
     "metadata": {},
     "output_type": "execute_result"
    }
   ],
   "source": [
    "array_z"
   ]
  },
  {
   "cell_type": "markdown",
   "id": "f5812751",
   "metadata": {},
   "source": [
    "To set all values of column 1 to 9 , we enter the command below. We have changed the fourth element of the first row from 5 to 9"
   ]
  },
  {
   "cell_type": "code",
   "execution_count": 44,
   "id": "dcb0a512",
   "metadata": {},
   "outputs": [],
   "source": [
    "array_z[:,1]=9"
   ]
  },
  {
   "cell_type": "code",
   "execution_count": 45,
   "id": "fda2b87b",
   "metadata": {},
   "outputs": [
    {
     "data": {
      "text/plain": [
       "array([[ 2,  9,  4,  9],\n",
       "       [ 5,  9,  7, 78],\n",
       "       [ 3,  9,  7,  5]])"
      ]
     },
     "execution_count": 45,
     "metadata": {},
     "output_type": "execute_result"
    }
   ],
   "source": [
    "\n",
    "array_z"
   ]
  },
  {
   "cell_type": "markdown",
   "id": "03eb2743",
   "metadata": {},
   "source": [
    "We want to now set all values of row 0 to 3"
   ]
  },
  {
   "cell_type": "code",
   "execution_count": 46,
   "id": "fb3eccf8",
   "metadata": {},
   "outputs": [],
   "source": [
    "array_z[0]=3"
   ]
  },
  {
   "cell_type": "code",
   "execution_count": 47,
   "id": "a90f5381",
   "metadata": {},
   "outputs": [
    {
     "data": {
      "text/plain": [
       "array([[ 3,  3,  3,  3],\n",
       "       [ 5,  9,  7, 78],\n",
       "       [ 3,  9,  7,  5]])"
      ]
     },
     "execution_count": 47,
     "metadata": {},
     "output_type": "execute_result"
    }
   ],
   "source": [
    "array_z"
   ]
  },
  {
   "cell_type": "markdown",
   "id": "25b067f8",
   "metadata": {},
   "source": [
    "We want to now set entire rows of an array to a list"
   ]
  },
  {
   "cell_type": "code",
   "execution_count": 49,
   "id": "19af1a5e",
   "metadata": {},
   "outputs": [],
   "source": [
    "someList=array_z[0]"
   ]
  },
  {
   "cell_type": "code",
   "execution_count": null,
   "id": "e9f70ba2",
   "metadata": {},
   "outputs": [],
   "source": []
  },
  {
   "cell_type": "code",
   "execution_count": null,
   "id": "9ba38008",
   "metadata": {},
   "outputs": [],
   "source": []
  },
  {
   "cell_type": "code",
   "execution_count": null,
   "id": "84572185",
   "metadata": {},
   "outputs": [],
   "source": []
  },
  {
   "cell_type": "code",
   "execution_count": null,
   "id": "f5f76f40",
   "metadata": {},
   "outputs": [],
   "source": []
  },
  {
   "cell_type": "code",
   "execution_count": null,
   "id": "16f4925a",
   "metadata": {},
   "outputs": [],
   "source": []
  },
  {
   "cell_type": "code",
   "execution_count": null,
   "id": "8c95dcbd",
   "metadata": {},
   "outputs": [],
   "source": []
  },
  {
   "cell_type": "code",
   "execution_count": null,
   "id": "09a63aab",
   "metadata": {},
   "outputs": [],
   "source": []
  },
  {
   "cell_type": "code",
   "execution_count": null,
   "id": "15f0cdf8",
   "metadata": {},
   "outputs": [],
   "source": []
  },
  {
   "cell_type": "code",
   "execution_count": null,
   "id": "faa4333f",
   "metadata": {},
   "outputs": [],
   "source": []
  },
  {
   "cell_type": "code",
   "execution_count": null,
   "id": "17aa01dd",
   "metadata": {},
   "outputs": [],
   "source": []
  },
  {
   "cell_type": "code",
   "execution_count": null,
   "id": "a50bc8a0",
   "metadata": {},
   "outputs": [],
   "source": []
  },
  {
   "cell_type": "code",
   "execution_count": null,
   "id": "b412c1ef",
   "metadata": {},
   "outputs": [],
   "source": []
  },
  {
   "cell_type": "code",
   "execution_count": null,
   "id": "f9e3eae9",
   "metadata": {},
   "outputs": [],
   "source": []
  },
  {
   "cell_type": "code",
   "execution_count": null,
   "id": "dbad7a1c",
   "metadata": {},
   "outputs": [],
   "source": []
  },
  {
   "cell_type": "code",
   "execution_count": null,
   "id": "9c86d521",
   "metadata": {},
   "outputs": [],
   "source": []
  },
  {
   "cell_type": "code",
   "execution_count": null,
   "id": "2cd03152",
   "metadata": {},
   "outputs": [],
   "source": []
  },
  {
   "cell_type": "code",
   "execution_count": null,
   "id": "74b55613",
   "metadata": {},
   "outputs": [],
   "source": []
  },
  {
   "cell_type": "code",
   "execution_count": null,
   "id": "80c56e1b",
   "metadata": {},
   "outputs": [],
   "source": []
  },
  {
   "cell_type": "code",
   "execution_count": null,
   "id": "cd5d9508",
   "metadata": {},
   "outputs": [],
   "source": []
  },
  {
   "cell_type": "code",
   "execution_count": null,
   "id": "7e799b31",
   "metadata": {},
   "outputs": [],
   "source": []
  },
  {
   "cell_type": "code",
   "execution_count": null,
   "id": "2de3e0b5",
   "metadata": {},
   "outputs": [],
   "source": []
  }
 ],
 "metadata": {
  "kernelspec": {
   "display_name": "Python 3 (ipykernel)",
   "language": "python",
   "name": "python3"
  },
  "language_info": {
   "codemirror_mode": {
    "name": "ipython",
    "version": 3
   },
   "file_extension": ".py",
   "mimetype": "text/x-python",
   "name": "python",
   "nbconvert_exporter": "python",
   "pygments_lexer": "ipython3",
   "version": "3.9.7"
  }
 },
 "nbformat": 4,
 "nbformat_minor": 5
}
