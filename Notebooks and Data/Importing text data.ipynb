{
 "cells": [
  {
   "cell_type": "markdown",
   "metadata": {},
   "source": [
    "## Importing Data with NumPy"
   ]
  },
  {
   "cell_type": "code",
   "execution_count": 41,
   "metadata": {},
   "outputs": [],
   "source": [
    "import numpy as np"
   ]
  },
  {
   "cell_type": "markdown",
   "metadata": {},
   "source": [
    "### np.loadtxt() vs np.genfromtxt()"
   ]
  },
  {
   "cell_type": "code",
   "execution_count": 42,
   "metadata": {
    "scrolled": true
   },
   "outputs": [
    {
     "data": {
      "text/plain": [
       "array([[ 2000.,    40.,   365.,  3121.,  4241., 13621.],\n",
       "       [ 2000.,    40.,   365.,  3061.,  4171., 15041.],\n",
       "       [ 1000.,    40.,   365.,  2160.,  3280., 15340.],\n",
       "       ...,\n",
       "       [ 2000.,    40.,   365.,  4201.,  5001., 16600.],\n",
       "       [ 1000.,    40.,   365.,  2080.,  3320., 15600.],\n",
       "       [ 2000.,    40.,   365.,  4601.,  4601., 16600.]])"
      ]
     },
     "execution_count": 42,
     "metadata": {},
     "output_type": "execute_result"
    }
   ],
   "source": [
    "lendingCoDataNumeric=np.loadtxt(\"LendingCompanyNumericData.csv\",delimiter=',')\n",
    "lendingCoDataNumeric\n"
   ]
  },
  {
   "cell_type": "code",
   "execution_count": 43,
   "metadata": {},
   "outputs": [
    {
     "data": {
      "text/plain": [
       "array([[ 2000.,    40.,   365.,  3121.,  4241., 13621.],\n",
       "       [ 2000.,    40.,   365.,  3061.,  4171., 15041.],\n",
       "       [ 1000.,    40.,   365.,  2160.,  3280., 15340.],\n",
       "       ...,\n",
       "       [ 2000.,    40.,   365.,  4201.,  5001., 16600.],\n",
       "       [ 1000.,    40.,   365.,  2080.,  3320., 15600.],\n",
       "       [ 2000.,    40.,   365.,  4601.,  4601., 16600.]])"
      ]
     },
     "execution_count": 43,
     "metadata": {},
     "output_type": "execute_result"
    }
   ],
   "source": [
    "lendingCoDataNumeric1=np.genfromtxt(\"LendingCompanyNumericData.csv\",delimiter=',')\n",
    "lendingCoDataNumeric1"
   ]
  },
  {
   "cell_type": "code",
   "execution_count": 44,
   "metadata": {
    "scrolled": true
   },
   "outputs": [
    {
     "data": {
      "text/plain": [
       "True"
      ]
     },
     "execution_count": 44,
     "metadata": {},
     "output_type": "execute_result"
    }
   ],
   "source": [
    "np.array_equal(lendingCoDataNumeric,lendingCoDataNumeric1)"
   ]
  },
  {
   "cell_type": "markdown",
   "metadata": {},
   "source": [
    "looks like so far loadtxt and genfromtxt are the same, lets find out from the following code.The main difference is that, the loadtxt is the faster of the two but it breaks when we feed it incomplete or ill formatted data. On the other hand, genfromtxt is slightly slower but can handle missing values. Now lets import a dataset with missing values in it and see what happens"
   ]
  },
  {
   "cell_type": "code",
   "execution_count": 45,
   "metadata": {},
   "outputs": [
    {
     "data": {
      "text/plain": [
       "array([[ 2000.,    40.,   365.,  3121.,  4241., 13621.],\n",
       "       [ 2000.,    40.,   365.,  3061.,  4171., 15041.],\n",
       "       [ 1000.,    40.,   365.,  2160.,  3280., 15340.],\n",
       "       ...,\n",
       "       [   nan,    40.,   365.,  4201.,  5001., 16600.],\n",
       "       [ 1000.,    40.,   365.,  2080.,  3320., 15600.],\n",
       "       [ 2000.,    40.,   365.,  4601.,  4601., 16600.]])"
      ]
     },
     "execution_count": 45,
     "metadata": {},
     "output_type": "execute_result"
    }
   ],
   "source": [
    "lendingCoDataNumericNAN=np.genfromtxt(\"LendingCoNumericDataWithNAN.csv\",delimiter=';')\n",
    "lendingCoDataNumericNAN"
   ]
  },
  {
   "cell_type": "code",
   "execution_count": 46,
   "metadata": {
    "scrolled": true
   },
   "outputs": [
    {
     "data": {
      "text/plain": [
       "array([['2000', '40', '365', '3121', '4241', '13621'],\n",
       "       ['2000', '40', '365', '3061', '4171', '15041'],\n",
       "       ['1000', '40', '365', '2160', '3280', '15340'],\n",
       "       ...,\n",
       "       ['', '40', '365', '4201', '5001', '16600'],\n",
       "       ['1000', '40', '365', '2080', '3320', '15600'],\n",
       "       ['2000', '40', '365', '4601', '4601', '16600']], dtype='<U5')"
      ]
     },
     "execution_count": 46,
     "metadata": {},
     "output_type": "execute_result"
    }
   ],
   "source": [
    "lendingCoDataNumericNAN=np.loadtxt(\"LendingCoNumericDataWithNAN.csv\",delimiter=';',dtype=str)\n",
    "lendingCoDataNumericNAN\n",
    "#we can use this method only when we want to observe the data values and not to perform any \n",
    "# mathematical operations"
   ]
  },
  {
   "cell_type": "markdown",
   "metadata": {},
   "source": [
    "In practice, we often deal with incomplete data. Sometimes we do not create this data ourselves. This is why genfromtxt is a great choice when loading files with numpy"
   ]
  },
  {
   "cell_type": "markdown",
   "metadata": {},
   "source": [
    "### Partial Cleaning While Importing"
   ]
  },
  {
   "cell_type": "code",
   "execution_count": 47,
   "metadata": {},
   "outputs": [
    {
     "data": {
      "text/plain": [
       "array([[ 2000.,    40.,   365.,  3121.,  4241., 13621.],\n",
       "       [ 2000.,    40.,   365.,  3061.,  4171., 15041.],\n",
       "       [ 1000.,    40.,   365.,  2160.,  3280., 15340.],\n",
       "       ...,\n",
       "       [   nan,    40.,   365.,  4201.,  5001., 16600.],\n",
       "       [ 1000.,    40.,   365.,  2080.,  3320., 15600.],\n",
       "       [ 2000.,    40.,   365.,  4601.,  4601., 16600.]])"
      ]
     },
     "execution_count": 47,
     "metadata": {},
     "output_type": "execute_result"
    }
   ],
   "source": [
    "lendingCoDataNumericNAN=np.genfromtxt(\"LendingCoNumericDataWithNAN.csv\",delimiter=';')\n",
    "lendingCoDataNumericNAN"
   ]
  },
  {
   "cell_type": "markdown",
   "metadata": {},
   "source": [
    "We will use a function called skip_header which is used to remove the first line of our dataset. To remove the first two lines, we use skip_header=2 "
   ]
  },
  {
   "cell_type": "code",
   "execution_count": 48,
   "metadata": {},
   "outputs": [
    {
     "data": {
      "text/plain": [
       "array([[ 1000.,    40.,   365.,  2160.,  3280., 15340.],\n",
       "       [ 2000.,    40.,   365.,  3041.,  4241., 15321.],\n",
       "       [ 2000.,    50.,   365.,  3470.,  4820., 13720.],\n",
       "       ...,\n",
       "       [   nan,    40.,   365.,  4201.,  5001., 16600.],\n",
       "       [ 1000.,    40.,   365.,  2080.,  3320., 15600.],\n",
       "       [ 2000.,    40.,   365.,  4601.,  4601., 16600.]])"
      ]
     },
     "execution_count": 48,
     "metadata": {},
     "output_type": "execute_result"
    }
   ],
   "source": [
    "lendingCoDataNumericNAN=np.genfromtxt(\"LendingCoNumericDataWithNAN.csv\",\n",
    "                                      delimiter=';',\n",
    "                                      skip_header=2)\n",
    "lendingCoDataNumericNAN\n",
    "\n",
    "#Now comparing the output of this code with that of the previous code, we realize that, the first two \n",
    "#rows of the first code have been removed \n",
    "#we can use skip_header=10 if we want to remove the first ten rows from the top"
   ]
  },
  {
   "cell_type": "markdown",
   "metadata": {},
   "source": [
    "What if we want to remove columns and not rows? what do we do? let's do this"
   ]
  },
  {
   "cell_type": "code",
   "execution_count": 49,
   "metadata": {},
   "outputs": [
    {
     "data": {
      "text/plain": [
       "array([[ 2000.,    40., 13621.],\n",
       "       [ 2000.,    40., 15041.],\n",
       "       [ 1000.,    40., 15340.],\n",
       "       ...,\n",
       "       [   nan,    40., 16600.],\n",
       "       [ 1000.,    40., 15600.],\n",
       "       [ 2000.,    40., 16600.]])"
      ]
     },
     "execution_count": 49,
     "metadata": {},
     "output_type": "execute_result"
    }
   ],
   "source": [
    "lendingCoDataNumericNAN=np.genfromtxt(\"LendingCoNumericDataWithNAN.csv\",\n",
    "                                      delimiter=';',\n",
    "                                      usecols=(0,1,5))\n",
    "lendingCoDataNumericNAN\n",
    "#the above code lets us use only the first, second and the sixt columns"
   ]
  },
  {
   "cell_type": "markdown",
   "metadata": {},
   "source": [
    "One interesting thing is that, we can use only the columns we want and also arrange them in the order that we want. Lets do this"
   ]
  },
  {
   "cell_type": "code",
   "execution_count": 50,
   "metadata": {},
   "outputs": [
    {
     "data": {
      "text/plain": [
       "array([[13621.,    40.,  2000.],\n",
       "       [15041.,    40.,  2000.],\n",
       "       [15340.,    40.,  1000.],\n",
       "       ...,\n",
       "       [16600.,    40.,    nan],\n",
       "       [15600.,    40.,  1000.],\n",
       "       [16600.,    40.,  2000.]])"
      ]
     },
     "execution_count": 50,
     "metadata": {},
     "output_type": "execute_result"
    }
   ],
   "source": [
    "lendingCoDataNumericNAN=np.genfromtxt(\"LendingCoNumericDataWithNAN.csv\",\n",
    "                                      delimiter=';',\n",
    "                                      usecols=(5,1,0))\n",
    "lendingCoDataNumericNAN\n",
    "#the above code rearranges our columns as we instructed"
   ]
  },
  {
   "cell_type": "code",
   "execution_count": 51,
   "metadata": {},
   "outputs": [
    {
     "data": {
      "text/plain": [
       "array([[15340.,    40.,  1000.],\n",
       "       [15321.,    40.,  2000.],\n",
       "       [13720.,    50.,  2000.],\n",
       "       ...,\n",
       "       [16600.,    40.,  2000.],\n",
       "       [16600.,    40.,  2000.],\n",
       "       [16600.,    40.,    nan]])"
      ]
     },
     "execution_count": 51,
     "metadata": {},
     "output_type": "execute_result"
    }
   ],
   "source": [
    "lendingCoDataNumericNAN=np.genfromtxt(\"LendingCoNumericDataWithNAN.csv\",\n",
    "                                      delimiter=';',\n",
    "                                      skip_header=2,\n",
    "                                      skip_footer=2,\n",
    "                                      usecols=(5,1,0))\n",
    "lendingCoDataNumericNAN"
   ]
  },
  {
   "cell_type": "markdown",
   "metadata": {},
   "source": [
    "Now we can set each of these columns to some variables. This is how we do that.Check the code below"
   ]
  },
  {
   "cell_type": "code",
   "execution_count": 52,
   "metadata": {},
   "outputs": [
    {
     "ename": "ValueError",
     "evalue": "too many values to unpack (expected 3)",
     "output_type": "error",
     "traceback": [
      "\u001b[1;31m---------------------------------------------------------------------------\u001b[0m",
      "\u001b[1;31mValueError\u001b[0m                                Traceback (most recent call last)",
      "\u001b[1;32m~\\AppData\\Local\\Temp/ipykernel_6504/2026378774.py\u001b[0m in \u001b[0;36m<module>\u001b[1;34m\u001b[0m\n\u001b[1;32m----> 1\u001b[1;33m rowOne,rowTwo,rowThree=np.genfromtxt(\"LendingCoNumericDataWithNAN.csv\",\n\u001b[0m\u001b[0;32m      2\u001b[0m                                       \u001b[0mdelimiter\u001b[0m\u001b[1;33m=\u001b[0m\u001b[1;34m';'\u001b[0m\u001b[1;33m,\u001b[0m\u001b[1;33m\u001b[0m\u001b[1;33m\u001b[0m\u001b[0m\n\u001b[0;32m      3\u001b[0m                                       \u001b[0mskip_header\u001b[0m\u001b[1;33m=\u001b[0m\u001b[1;36m2\u001b[0m\u001b[1;33m,\u001b[0m\u001b[1;33m\u001b[0m\u001b[1;33m\u001b[0m\u001b[0m\n\u001b[0;32m      4\u001b[0m                                       \u001b[0mskip_footer\u001b[0m\u001b[1;33m=\u001b[0m\u001b[1;36m2\u001b[0m\u001b[1;33m,\u001b[0m\u001b[1;33m\u001b[0m\u001b[1;33m\u001b[0m\u001b[0m\n\u001b[0;32m      5\u001b[0m                                       usecols=(5,1,0))\n",
      "\u001b[1;31mValueError\u001b[0m: too many values to unpack (expected 3)"
     ]
    }
   ],
   "source": [
    "rowOne,rowTwo,rowThree=np.genfromtxt(\"LendingCoNumericDataWithNAN.csv\",\n",
    "                                      delimiter=';',\n",
    "                                      skip_header=2,\n",
    "                                      skip_footer=2,\n",
    "                                      usecols=(5,1,0))\n",
    "lendingCoDataNumericNAN"
   ]
  },
  {
   "cell_type": "markdown",
   "metadata": {},
   "source": [
    "Oh! Too many values to upack? alright, we can  do this. Check the code below"
   ]
  },
  {
   "cell_type": "code",
   "execution_count": 53,
   "metadata": {},
   "outputs": [
    {
     "data": {
      "text/plain": [
       "array([[15340.,    40.,  1000.],\n",
       "       [15321.,    40.,  2000.],\n",
       "       [13720.,    50.,  2000.],\n",
       "       ...,\n",
       "       [16600.,    40.,  2000.],\n",
       "       [16600.,    40.,  2000.],\n",
       "       [16600.,    40.,    nan]])"
      ]
     },
     "execution_count": 53,
     "metadata": {},
     "output_type": "execute_result"
    }
   ],
   "source": [
    "rowOne,rowTwo,rowThree=np.genfromtxt(\"LendingCoNumericDataWithNAN.csv\",\n",
    "                                      delimiter=';',\n",
    "                                      skip_header=2,\n",
    "                                      skip_footer=2,\n",
    "                                      usecols=(5,1,0),\n",
    "                                    unpack=True)\n",
    "lendingCoDataNumericNAN"
   ]
  },
  {
   "cell_type": "code",
   "execution_count": 54,
   "metadata": {},
   "outputs": [
    {
     "data": {
      "text/plain": [
       "array([15340., 15321., 13720., ..., 16600., 16600., 16600.])"
      ]
     },
     "execution_count": 54,
     "metadata": {},
     "output_type": "execute_result"
    }
   ],
   "source": [
    "rowOne"
   ]
  },
  {
   "cell_type": "code",
   "execution_count": 55,
   "metadata": {},
   "outputs": [
    {
     "data": {
      "text/plain": [
       "array([1000., 2000., 2000., ..., 2000., 2000.,   nan])"
      ]
     },
     "execution_count": 55,
     "metadata": {},
     "output_type": "execute_result"
    }
   ],
   "source": [
    "rowThree"
   ]
  },
  {
   "cell_type": "code",
   "execution_count": null,
   "metadata": {},
   "outputs": [],
   "source": []
  },
  {
   "cell_type": "markdown",
   "metadata": {
    "scrolled": true
   },
   "source": [
    "### String vs Object vs Numbers"
   ]
  },
  {
   "cell_type": "code",
   "execution_count": 60,
   "metadata": {},
   "outputs": [
    {
     "data": {
      "text/plain": [
       "array([[      nan,       nan,       nan, ...,       nan,       nan,\n",
       "              nan],\n",
       "       [1.000e+00,       nan,       nan, ...,       nan,       nan,\n",
       "        1.660e+04],\n",
       "       [2.000e+00,       nan,       nan, ...,       nan,       nan,\n",
       "        1.660e+04],\n",
       "       ...,\n",
       "       [1.041e+03,       nan,       nan, ...,       nan,       nan,\n",
       "        1.660e+04],\n",
       "       [1.042e+03,       nan,       nan, ...,       nan,       nan,\n",
       "        1.560e+04],\n",
       "       [1.043e+03,       nan,       nan, ...,       nan,       nan,\n",
       "        1.660e+04]])"
      ]
     },
     "execution_count": 60,
     "metadata": {},
     "output_type": "execute_result"
    }
   ],
   "source": [
    "lendingCoLT=np.genfromtxt('lendingCoLT.csv',delimiter=',')\n",
    "lendingCoLT\n",
    "#we first have to open the file outside this program to see the delimiter whether a colon or a comma"
   ]
  },
  {
   "cell_type": "markdown",
   "metadata": {},
   "source": [
    "To get a neater output, we can print the variable. Let's do this"
   ]
  },
  {
   "cell_type": "code",
   "execution_count": 62,
   "metadata": {},
   "outputs": [
    {
     "name": "stdout",
     "output_type": "stream",
     "text": [
      "[[      nan       nan       nan ...       nan       nan       nan]\n",
      " [1.000e+00       nan       nan ...       nan       nan 1.660e+04]\n",
      " [2.000e+00       nan       nan ...       nan       nan 1.660e+04]\n",
      " ...\n",
      " [1.041e+03       nan       nan ...       nan       nan 1.660e+04]\n",
      " [1.042e+03       nan       nan ...       nan       nan 1.560e+04]\n",
      " [1.043e+03       nan       nan ...       nan       nan 1.660e+04]]\n"
     ]
    }
   ],
   "source": [
    "lendingCoLT=np.genfromtxt('lendingCoLT.csv',delimiter=',')\n",
    "print(lendingCoLT)\n",
    "#it looks more organized to print out our values than to just call them directly"
   ]
  },
  {
   "cell_type": "code",
   "execution_count": null,
   "metadata": {},
   "outputs": [],
   "source": []
  },
  {
   "cell_type": "code",
   "execution_count": null,
   "metadata": {},
   "outputs": [],
   "source": []
  }
 ],
 "metadata": {
  "kernelspec": {
   "display_name": "Python 3 (ipykernel)",
   "language": "python",
   "name": "python3"
  },
  "language_info": {
   "codemirror_mode": {
    "name": "ipython",
    "version": 3
   },
   "file_extension": ".py",
   "mimetype": "text/x-python",
   "name": "python",
   "nbconvert_exporter": "python",
   "pygments_lexer": "ipython3",
   "version": "3.9.7"
  }
 },
 "nbformat": 4,
 "nbformat_minor": 2
}
