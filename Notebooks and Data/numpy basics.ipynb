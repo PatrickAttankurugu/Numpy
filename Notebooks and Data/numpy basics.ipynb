{
 "cells": [
  {
   "cell_type": "markdown",
   "id": "79670d7c",
   "metadata": {},
   "source": [
    "ALL ABOUT NUMPY BASIC OPERATIONS"
   ]
  },
  {
   "cell_type": "code",
   "execution_count": 1,
   "id": "f3e4dbce",
   "metadata": {},
   "outputs": [],
   "source": [
    "import numpy as np"
   ]
  },
  {
   "cell_type": "code",
   "execution_count": 2,
   "id": "aa593f2a",
   "metadata": {},
   "outputs": [],
   "source": [
    "array_a=np.array([1,2,3])"
   ]
  },
  {
   "cell_type": "code",
   "execution_count": 3,
   "id": "3f482a86",
   "metadata": {},
   "outputs": [
    {
     "data": {
      "text/plain": [
       "array([1, 2, 3])"
      ]
     },
     "execution_count": 3,
     "metadata": {},
     "output_type": "execute_result"
    }
   ],
   "source": [
    "array_a"
   ]
  },
  {
   "cell_type": "code",
   "execution_count": 4,
   "id": "425494c8",
   "metadata": {},
   "outputs": [],
   "source": [
    "array_b=np.array([[1,2,3],[3,4,5],[6,7,8]])"
   ]
  },
  {
   "cell_type": "code",
   "execution_count": 5,
   "id": "efcab995",
   "metadata": {},
   "outputs": [
    {
     "data": {
      "text/plain": [
       "array([[1, 2, 3],\n",
       "       [3, 4, 5],\n",
       "       [6, 7, 8]])"
      ]
     },
     "execution_count": 5,
     "metadata": {},
     "output_type": "execute_result"
    }
   ],
   "source": [
    "array_b"
   ]
  },
  {
   "cell_type": "code",
   "execution_count": 6,
   "id": "434d752c",
   "metadata": {},
   "outputs": [
    {
     "data": {
      "text/plain": [
       "array([3.33333333, 4.33333333, 5.33333333])"
      ]
     },
     "execution_count": 6,
     "metadata": {},
     "output_type": "execute_result"
    }
   ],
   "source": [
    "np.mean(array_b,axis=0)"
   ]
  },
  {
   "cell_type": "code",
   "execution_count": 7,
   "id": "4feeadf4",
   "metadata": {},
   "outputs": [],
   "source": [
    "array1=np.array([[1,2,3],[4,5,6]])"
   ]
  },
  {
   "cell_type": "code",
   "execution_count": 8,
   "id": "f42ba901",
   "metadata": {},
   "outputs": [
    {
     "data": {
      "text/plain": [
       "array([[1, 2, 3],\n",
       "       [4, 5, 6]])"
      ]
     },
     "execution_count": 8,
     "metadata": {},
     "output_type": "execute_result"
    }
   ],
   "source": [
    "array1"
   ]
  },
  {
   "cell_type": "code",
   "execution_count": 9,
   "id": "ece49aef",
   "metadata": {},
   "outputs": [
    {
     "data": {
      "text/plain": [
       "numpy.ndarray"
      ]
     },
     "execution_count": 9,
     "metadata": {},
     "output_type": "execute_result"
    }
   ],
   "source": [
    "type(array1)"
   ]
  },
  {
   "cell_type": "code",
   "execution_count": 10,
   "id": "11063ec4",
   "metadata": {},
   "outputs": [
    {
     "data": {
      "text/plain": [
       "(2, 3)"
      ]
     },
     "execution_count": 10,
     "metadata": {},
     "output_type": "execute_result"
    }
   ],
   "source": [
    "array1.shape"
   ]
  },
  {
   "cell_type": "code",
   "execution_count": 11,
   "id": "75dedef8",
   "metadata": {},
   "outputs": [],
   "source": [
    "list_a=[[1,2,3,6],[4,5,6,8],[7,8,9,9]]"
   ]
  },
  {
   "cell_type": "code",
   "execution_count": 12,
   "id": "54863dcd",
   "metadata": {},
   "outputs": [
    {
     "data": {
      "text/plain": [
       "3"
      ]
     },
     "execution_count": 12,
     "metadata": {},
     "output_type": "execute_result"
    }
   ],
   "source": [
    "len(list_a)"
   ]
  },
  {
   "cell_type": "code",
   "execution_count": 13,
   "id": "395f5e33",
   "metadata": {},
   "outputs": [
    {
     "data": {
      "text/plain": [
       "list"
      ]
     },
     "execution_count": 13,
     "metadata": {},
     "output_type": "execute_result"
    }
   ],
   "source": [
    "type(list_a)"
   ]
  },
  {
   "cell_type": "code",
   "execution_count": 14,
   "id": "6e55b9ea",
   "metadata": {},
   "outputs": [
    {
     "data": {
      "text/plain": [
       "numpy.ndarray"
      ]
     },
     "execution_count": 14,
     "metadata": {},
     "output_type": "execute_result"
    }
   ],
   "source": [
    "type(array_a)"
   ]
  },
  {
   "cell_type": "code",
   "execution_count": 15,
   "id": "c9ce7ec1",
   "metadata": {},
   "outputs": [],
   "source": [
    "confuse=np.array([1,2,3])"
   ]
  },
  {
   "cell_type": "code",
   "execution_count": 16,
   "id": "f6e2d951",
   "metadata": {},
   "outputs": [
    {
     "data": {
      "text/plain": [
       "array([1, 2, 3])"
      ]
     },
     "execution_count": 16,
     "metadata": {},
     "output_type": "execute_result"
    }
   ],
   "source": [
    "confuse"
   ]
  },
  {
   "cell_type": "code",
   "execution_count": 17,
   "id": "028659e8",
   "metadata": {},
   "outputs": [
    {
     "data": {
      "text/plain": [
       "3"
      ]
     },
     "execution_count": 17,
     "metadata": {},
     "output_type": "execute_result"
    }
   ],
   "source": [
    "len(list_a)"
   ]
  },
  {
   "cell_type": "code",
   "execution_count": 18,
   "id": "28f0ea07",
   "metadata": {},
   "outputs": [
    {
     "data": {
      "text/plain": [
       "4"
      ]
     },
     "execution_count": 18,
     "metadata": {},
     "output_type": "execute_result"
    }
   ],
   "source": [
    "len(list_a[0])"
   ]
  },
  {
   "cell_type": "code",
   "execution_count": 19,
   "id": "8cc5e1df",
   "metadata": {},
   "outputs": [
    {
     "data": {
      "text/plain": [
       "3"
      ]
     },
     "execution_count": 19,
     "metadata": {},
     "output_type": "execute_result"
    }
   ],
   "source": [
    "len(list_a)"
   ]
  },
  {
   "cell_type": "code",
   "execution_count": 20,
   "id": "dab768ee",
   "metadata": {},
   "outputs": [
    {
     "data": {
      "text/plain": [
       "4"
      ]
     },
     "execution_count": 20,
     "metadata": {},
     "output_type": "execute_result"
    }
   ],
   "source": [
    "len(list_a[0])"
   ]
  },
  {
   "cell_type": "code",
   "execution_count": 21,
   "id": "eeb9eb07",
   "metadata": {},
   "outputs": [
    {
     "data": {
      "text/plain": [
       "4"
      ]
     },
     "execution_count": 21,
     "metadata": {},
     "output_type": "execute_result"
    }
   ],
   "source": [
    "len(list_a[2])"
   ]
  },
  {
   "cell_type": "code",
   "execution_count": 22,
   "id": "ea405a7b",
   "metadata": {},
   "outputs": [
    {
     "name": "stdout",
     "output_type": "stream",
     "text": [
      "[[1, 2, 3, 6], [4, 5, 6, 8], [7, 8, 9, 9]]\n"
     ]
    }
   ],
   "source": [
    "print(list_a)"
   ]
  },
  {
   "cell_type": "code",
   "execution_count": 23,
   "id": "aeff6a38",
   "metadata": {},
   "outputs": [],
   "source": [
    "p=list_a"
   ]
  },
  {
   "cell_type": "code",
   "execution_count": 24,
   "id": "42277765",
   "metadata": {},
   "outputs": [
    {
     "data": {
      "text/plain": [
       "array([[1, 2, 3, 6],\n",
       "       [4, 5, 6, 8],\n",
       "       [7, 8, 9, 9]])"
      ]
     },
     "execution_count": 24,
     "metadata": {},
     "output_type": "execute_result"
    }
   ],
   "source": [
    "np.array(p)"
   ]
  },
  {
   "cell_type": "code",
   "execution_count": 25,
   "id": "4edb22c0",
   "metadata": {},
   "outputs": [],
   "source": [
    "list_b=list_a[0]+list_a[1]"
   ]
  },
  {
   "cell_type": "code",
   "execution_count": 26,
   "id": "c058e5c6",
   "metadata": {},
   "outputs": [
    {
     "data": {
      "text/plain": [
       "[1, 2, 3, 6, 4, 5, 6, 8]"
      ]
     },
     "execution_count": 26,
     "metadata": {},
     "output_type": "execute_result"
    }
   ],
   "source": [
    "list_b"
   ]
  },
  {
   "cell_type": "code",
   "execution_count": 27,
   "id": "bc3f6843",
   "metadata": {},
   "outputs": [],
   "source": [
    "array_b=array_a[0]+array_a[1]"
   ]
  },
  {
   "cell_type": "code",
   "execution_count": 28,
   "id": "3ad6e8be",
   "metadata": {},
   "outputs": [
    {
     "data": {
      "text/plain": [
       "3"
      ]
     },
     "execution_count": 28,
     "metadata": {},
     "output_type": "execute_result"
    }
   ],
   "source": [
    "array_b"
   ]
  },
  {
   "cell_type": "code",
   "execution_count": 29,
   "id": "160b37c5",
   "metadata": {},
   "outputs": [
    {
     "data": {
      "text/plain": [
       "array([1.        , 1.41421356, 1.73205081])"
      ]
     },
     "execution_count": 29,
     "metadata": {},
     "output_type": "execute_result"
    }
   ],
   "source": [
    "np.sqrt(array_a)"
   ]
  },
  {
   "cell_type": "markdown",
   "id": "09cdba8e",
   "metadata": {},
   "source": [
    "NUMPY FUNDAMENTALS"
   ]
  },
  {
   "cell_type": "code",
   "execution_count": 30,
   "id": "9bb7a060",
   "metadata": {},
   "outputs": [],
   "source": [
    "array_z=np.array([[2,3,4,5],[5,6,7,78],[3,4,7,5]])"
   ]
  },
  {
   "cell_type": "code",
   "execution_count": 31,
   "id": "e45a521a",
   "metadata": {},
   "outputs": [
    {
     "data": {
      "text/plain": [
       "array([[ 2,  3,  4,  5],\n",
       "       [ 5,  6,  7, 78],\n",
       "       [ 3,  4,  7,  5]])"
      ]
     },
     "execution_count": 31,
     "metadata": {},
     "output_type": "execute_result"
    }
   ],
   "source": [
    "array_z"
   ]
  },
  {
   "cell_type": "code",
   "execution_count": 32,
   "id": "0c933db7",
   "metadata": {},
   "outputs": [
    {
     "data": {
      "text/plain": [
       "array([2, 3, 4, 5])"
      ]
     },
     "execution_count": 32,
     "metadata": {},
     "output_type": "execute_result"
    }
   ],
   "source": [
    "array_z[0]"
   ]
  },
  {
   "cell_type": "code",
   "execution_count": 33,
   "id": "7ae15542",
   "metadata": {},
   "outputs": [
    {
     "data": {
      "text/plain": [
       "3"
      ]
     },
     "execution_count": 33,
     "metadata": {},
     "output_type": "execute_result"
    }
   ],
   "source": [
    "array_z[0][1]"
   ]
  },
  {
   "cell_type": "code",
   "execution_count": 34,
   "id": "97e11e1a",
   "metadata": {},
   "outputs": [
    {
     "data": {
      "text/plain": [
       "7"
      ]
     },
     "execution_count": 34,
     "metadata": {},
     "output_type": "execute_result"
    }
   ],
   "source": [
    "array_z[2][2]"
   ]
  },
  {
   "cell_type": "code",
   "execution_count": 35,
   "id": "898a5538",
   "metadata": {},
   "outputs": [
    {
     "data": {
      "text/plain": [
       "5"
      ]
     },
     "execution_count": 35,
     "metadata": {},
     "output_type": "execute_result"
    }
   ],
   "source": [
    "array_z[2][3]"
   ]
  },
  {
   "cell_type": "code",
   "execution_count": 36,
   "id": "3d81bb46",
   "metadata": {},
   "outputs": [
    {
     "data": {
      "text/plain": [
       "array([3, 4, 7, 5])"
      ]
     },
     "execution_count": 36,
     "metadata": {},
     "output_type": "execute_result"
    }
   ],
   "source": [
    "array_z[-1]"
   ]
  },
  {
   "cell_type": "code",
   "execution_count": 37,
   "id": "707adc2d",
   "metadata": {},
   "outputs": [
    {
     "data": {
      "text/plain": [
       "array([ 5,  6,  7, 78])"
      ]
     },
     "execution_count": 37,
     "metadata": {},
     "output_type": "execute_result"
    }
   ],
   "source": [
    "array_z[-2]"
   ]
  },
  {
   "cell_type": "markdown",
   "id": "60be389e",
   "metadata": {},
   "source": [
    "We can assign values to individual elements of an array. See the code below. "
   ]
  },
  {
   "cell_type": "code",
   "execution_count": 38,
   "id": "f3a7bc02",
   "metadata": {},
   "outputs": [],
   "source": [
    "array_z[0,3]=9"
   ]
  },
  {
   "cell_type": "code",
   "execution_count": 39,
   "id": "8716f090",
   "metadata": {},
   "outputs": [
    {
     "data": {
      "text/plain": [
       "array([[ 2,  3,  4,  9],\n",
       "       [ 5,  6,  7, 78],\n",
       "       [ 3,  4,  7,  5]])"
      ]
     },
     "execution_count": 39,
     "metadata": {},
     "output_type": "execute_result"
    }
   ],
   "source": [
    "array_z"
   ]
  },
  {
   "cell_type": "markdown",
   "id": "f5812751",
   "metadata": {},
   "source": [
    "To set all values of column 1 to 9 , we enter the command below. We have changed the fourth element of the first row from 5 to 9"
   ]
  },
  {
   "cell_type": "code",
   "execution_count": 40,
   "id": "dcb0a512",
   "metadata": {},
   "outputs": [],
   "source": [
    "array_z[:,1]=9"
   ]
  },
  {
   "cell_type": "code",
   "execution_count": 41,
   "id": "fda2b87b",
   "metadata": {},
   "outputs": [
    {
     "data": {
      "text/plain": [
       "array([[ 2,  9,  4,  9],\n",
       "       [ 5,  9,  7, 78],\n",
       "       [ 3,  9,  7,  5]])"
      ]
     },
     "execution_count": 41,
     "metadata": {},
     "output_type": "execute_result"
    }
   ],
   "source": [
    "\n",
    "array_z"
   ]
  },
  {
   "cell_type": "markdown",
   "id": "03eb2743",
   "metadata": {},
   "source": [
    "We want to now set all values of row 0 to 3"
   ]
  },
  {
   "cell_type": "code",
   "execution_count": 42,
   "id": "fb3eccf8",
   "metadata": {},
   "outputs": [],
   "source": [
    "array_z[0]=3"
   ]
  },
  {
   "cell_type": "code",
   "execution_count": 43,
   "id": "a90f5381",
   "metadata": {},
   "outputs": [
    {
     "data": {
      "text/plain": [
       "array([[ 3,  3,  3,  3],\n",
       "       [ 5,  9,  7, 78],\n",
       "       [ 3,  9,  7,  5]])"
      ]
     },
     "execution_count": 43,
     "metadata": {},
     "output_type": "execute_result"
    }
   ],
   "source": [
    "array_z"
   ]
  },
  {
   "cell_type": "markdown",
   "id": "78e41b93",
   "metadata": {},
   "source": [
    "We want to now set entire rows of an array to a list"
   ]
  },
  {
   "cell_type": "code",
   "execution_count": 44,
   "id": "19af1a5e",
   "metadata": {},
   "outputs": [],
   "source": [
    "someList=array_z[0]"
   ]
  },
  {
   "cell_type": "code",
   "execution_count": 45,
   "id": "0c492b71",
   "metadata": {},
   "outputs": [
    {
     "data": {
      "text/plain": [
       "array([3, 3, 3, 3])"
      ]
     },
     "execution_count": 45,
     "metadata": {},
     "output_type": "execute_result"
    }
   ],
   "source": [
    "someList"
   ]
  },
  {
   "cell_type": "code",
   "execution_count": 46,
   "id": "9ba38008",
   "metadata": {},
   "outputs": [],
   "source": [
    "another_list=array_z[2]"
   ]
  },
  {
   "cell_type": "code",
   "execution_count": 47,
   "id": "84572185",
   "metadata": {},
   "outputs": [
    {
     "data": {
      "text/plain": [
       "array([3, 9, 7, 5])"
      ]
     },
     "execution_count": 47,
     "metadata": {},
     "output_type": "execute_result"
    }
   ],
   "source": [
    "another_list"
   ]
  },
  {
   "cell_type": "markdown",
   "id": "b0d51965",
   "metadata": {},
   "source": [
    "What if we want to set all values of the array equall to a single number? Let's see"
   ]
  },
  {
   "cell_type": "code",
   "execution_count": 48,
   "id": "16f4925a",
   "metadata": {},
   "outputs": [
    {
     "data": {
      "text/plain": [
       "array([[ 3,  3,  3,  3],\n",
       "       [ 5,  9,  7, 78],\n",
       "       [ 3,  9,  7,  5]])"
      ]
     },
     "execution_count": 48,
     "metadata": {},
     "output_type": "execute_result"
    }
   ],
   "source": [
    "array_z"
   ]
  },
  {
   "cell_type": "code",
   "execution_count": 49,
   "id": "59aac4c9",
   "metadata": {},
   "outputs": [],
   "source": [
    "array_z[:]=1"
   ]
  },
  {
   "cell_type": "code",
   "execution_count": 50,
   "id": "8c95dcbd",
   "metadata": {},
   "outputs": [
    {
     "data": {
      "text/plain": [
       "array([[1, 1, 1, 1],\n",
       "       [1, 1, 1, 1],\n",
       "       [1, 1, 1, 1]])"
      ]
     },
     "execution_count": 50,
     "metadata": {},
     "output_type": "execute_result"
    }
   ],
   "source": [
    "array_z"
   ]
  },
  {
   "cell_type": "code",
   "execution_count": 51,
   "id": "09a63aab",
   "metadata": {},
   "outputs": [
    {
     "data": {
      "text/plain": [
       "array([1, 1, 1, 1])"
      ]
     },
     "execution_count": 51,
     "metadata": {},
     "output_type": "execute_result"
    }
   ],
   "source": [
    "another_list"
   ]
  },
  {
   "cell_type": "markdown",
   "id": "6279610a",
   "metadata": {},
   "source": [
    "Adding a value to a 1D array"
   ]
  },
  {
   "cell_type": "code",
   "execution_count": 52,
   "id": "faa4333f",
   "metadata": {},
   "outputs": [
    {
     "data": {
      "text/plain": [
       "array([6, 6, 6, 6])"
      ]
     },
     "execution_count": 52,
     "metadata": {},
     "output_type": "execute_result"
    }
   ],
   "source": [
    "another_list+5"
   ]
  },
  {
   "cell_type": "markdown",
   "id": "5d341177",
   "metadata": {},
   "source": [
    "How about if we add 5 to a 2D array? what will happen?"
   ]
  },
  {
   "cell_type": "code",
   "execution_count": 53,
   "id": "a50bc8a0",
   "metadata": {},
   "outputs": [
    {
     "data": {
      "text/plain": [
       "array([[6, 6, 6, 6],\n",
       "       [6, 6, 6, 6],\n",
       "       [6, 6, 6, 6]])"
      ]
     },
     "execution_count": 53,
     "metadata": {},
     "output_type": "execute_result"
    }
   ],
   "source": [
    "array_z+5"
   ]
  },
  {
   "cell_type": "markdown",
   "id": "0ad2ccab",
   "metadata": {},
   "source": [
    "It works that way as well. In fact, we can compute all kinds of mathematical operations of arrays, operations like the addition we just did, subtraction, multiplication and division"
   ]
  },
  {
   "cell_type": "markdown",
   "id": "98e267ef",
   "metadata": {},
   "source": [
    "But there is more we can do with arrays. We can add one dimensional arrays to two dimensional arrays\n",
    "as shown below"
   ]
  },
  {
   "cell_type": "code",
   "execution_count": 54,
   "id": "dbad7a1c",
   "metadata": {},
   "outputs": [],
   "source": [
    "array_b=([7,5,6,7])"
   ]
  },
  {
   "cell_type": "code",
   "execution_count": 55,
   "id": "9c86d521",
   "metadata": {},
   "outputs": [],
   "source": [
    "array_c=np.array([[2,3,4,5],[5,6,7,78],[3,4,7,5]])"
   ]
  },
  {
   "cell_type": "code",
   "execution_count": 56,
   "id": "6a1aef7a",
   "metadata": {},
   "outputs": [
    {
     "data": {
      "text/plain": [
       "array([[ 9,  8, 10, 12],\n",
       "       [12, 11, 13, 85],\n",
       "       [10,  9, 13, 12]])"
      ]
     },
     "execution_count": 56,
     "metadata": {},
     "output_type": "execute_result"
    }
   ],
   "source": [
    "array_b+array_c"
   ]
  },
  {
   "cell_type": "markdown",
   "id": "fe2df473",
   "metadata": {},
   "source": [
    "What happened in the above code was that,each element of array_b was added to the corrresponding \n",
    "element in each row of array_c"
   ]
  },
  {
   "cell_type": "markdown",
   "id": "6bbd0487",
   "metadata": {},
   "source": [
    "The default data type of a numpy array is always set to none . But we can set it to a different\n",
    "data type"
   ]
  },
  {
   "cell_type": "code",
   "execution_count": 57,
   "id": "80c56e1b",
   "metadata": {},
   "outputs": [],
   "source": [
    "array_dtype=np.array([[2,3,4,6,7],[2,34,5,6,4]],dtype=np.complex64)"
   ]
  },
  {
   "cell_type": "code",
   "execution_count": 58,
   "id": "cd5d9508",
   "metadata": {},
   "outputs": [
    {
     "data": {
      "text/plain": [
       "array([[ 2.+0.j,  3.+0.j,  4.+0.j,  6.+0.j,  7.+0.j],\n",
       "       [ 2.+0.j, 34.+0.j,  5.+0.j,  6.+0.j,  4.+0.j]], dtype=complex64)"
      ]
     },
     "execution_count": 58,
     "metadata": {},
     "output_type": "execute_result"
    }
   ],
   "source": [
    "array_dtype"
   ]
  },
  {
   "cell_type": "code",
   "execution_count": 59,
   "id": "7e799b31",
   "metadata": {},
   "outputs": [],
   "source": [
    "array_dtype=np.array([[2,3,4,6,7],[2,4,5,6,4]],dtype=str)"
   ]
  },
  {
   "cell_type": "code",
   "execution_count": 60,
   "id": "2de3e0b5",
   "metadata": {},
   "outputs": [
    {
     "data": {
      "text/plain": [
       "array([['2', '3', '4', '6', '7'],\n",
       "       ['2', '4', '5', '6', '4']], dtype='<U1')"
      ]
     },
     "execution_count": 60,
     "metadata": {},
     "output_type": "execute_result"
    }
   ],
   "source": [
    "array_dtype"
   ]
  },
  {
   "cell_type": "markdown",
   "id": "bff44d29",
   "metadata": {},
   "source": [
    "Characteristics of numpy functions"
   ]
  },
  {
   "cell_type": "markdown",
   "id": "d3b7de15",
   "metadata": {},
   "source": [
    "Broadcasting"
   ]
  },
  {
   "cell_type": "code",
   "execution_count": 61,
   "id": "2ce9b4a6",
   "metadata": {},
   "outputs": [
    {
     "data": {
      "text/plain": [
       "array([1, 2, 3])"
      ]
     },
     "execution_count": 61,
     "metadata": {},
     "output_type": "execute_result"
    }
   ],
   "source": [
    "array_a=np.array([1,2,3])\n",
    "array_a"
   ]
  },
  {
   "cell_type": "code",
   "execution_count": 62,
   "id": "2cc3804c",
   "metadata": {},
   "outputs": [
    {
     "data": {
      "text/plain": [
       "array([[2],\n",
       "       [3]])"
      ]
     },
     "execution_count": 62,
     "metadata": {},
     "output_type": "execute_result"
    }
   ],
   "source": [
    "array_b=np.array([[2],[3]])\n",
    "array_b"
   ]
  },
  {
   "cell_type": "code",
   "execution_count": 63,
   "id": "2210f5e5",
   "metadata": {},
   "outputs": [
    {
     "data": {
      "text/plain": [
       "array([[2, 3, 4],\n",
       "       [6, 7, 8]])"
      ]
     },
     "execution_count": 63,
     "metadata": {},
     "output_type": "execute_result"
    }
   ],
   "source": [
    "matrix_c=np.array([[2,3,4],[6,7,8]])\n",
    "matrix_c"
   ]
  },
  {
   "cell_type": "markdown",
   "id": "ad6ff79d",
   "metadata": {},
   "source": [
    "Type Casting"
   ]
  },
  {
   "cell_type": "markdown",
   "id": "972503d6",
   "metadata": {},
   "source": [
    "This is the act of changing the data type of an array to a different data type. Example is indicated below"
   ]
  },
  {
   "cell_type": "markdown",
   "id": "6ec49ba3",
   "metadata": {},
   "source": [
    "Broad Casting\n",
    "This refers to working with arrays that have different shapes like the code below"
   ]
  },
  {
   "cell_type": "code",
   "execution_count": 64,
   "id": "6bc580fe",
   "metadata": {},
   "outputs": [
    {
     "data": {
      "text/plain": [
       "array([[ 4.,  5.,  6.],\n",
       "       [ 9., 10., 11.]])"
      ]
     },
     "execution_count": 64,
     "metadata": {},
     "output_type": "execute_result"
    }
   ],
   "source": [
    "np.add(array_b,matrix_c,dtype=np.float64)"
   ]
  },
  {
   "cell_type": "code",
   "execution_count": 65,
   "id": "eda5be1b",
   "metadata": {},
   "outputs": [
    {
     "data": {
      "text/plain": [
       "array([1, 2, 3])"
      ]
     },
     "execution_count": 65,
     "metadata": {},
     "output_type": "execute_result"
    }
   ],
   "source": [
    "array1=np.array([1,2,3])\n",
    "array1"
   ]
  },
  {
   "cell_type": "code",
   "execution_count": 66,
   "id": "4558492b",
   "metadata": {},
   "outputs": [
    {
     "data": {
      "text/plain": [
       "array([[1],\n",
       "       [2]])"
      ]
     },
     "execution_count": 66,
     "metadata": {},
     "output_type": "execute_result"
    }
   ],
   "source": [
    "array2=np.array([[1],[2]])\n",
    "array2"
   ]
  },
  {
   "cell_type": "code",
   "execution_count": 67,
   "id": "6fff790f",
   "metadata": {},
   "outputs": [
    {
     "data": {
      "text/plain": [
       "array([[3, 4, 5],\n",
       "       [3, 2, 5]])"
      ]
     },
     "execution_count": 67,
     "metadata": {},
     "output_type": "execute_result"
    }
   ],
   "source": [
    "array3=np.array([[3,4,5],[3,2,5]])\n",
    "array3"
   ]
  },
  {
   "cell_type": "code",
   "execution_count": 68,
   "id": "7f06a4a7",
   "metadata": {},
   "outputs": [
    {
     "data": {
      "text/plain": [
       "array([[4, 6, 8],\n",
       "       [4, 4, 8]])"
      ]
     },
     "execution_count": 68,
     "metadata": {},
     "output_type": "execute_result"
    }
   ],
   "source": [
    "np.add(array1,array3)"
   ]
  },
  {
   "cell_type": "markdown",
   "id": "7494be46",
   "metadata": {},
   "source": [
    "Type Casting\n",
    "This is the act of taking every element of an array and changing it into a specified data type"
   ]
  },
  {
   "cell_type": "code",
   "execution_count": 69,
   "id": "965ad055",
   "metadata": {},
   "outputs": [
    {
     "data": {
      "text/plain": [
       "array([[4., 6., 8.],\n",
       "       [4., 4., 8.]])"
      ]
     },
     "execution_count": 69,
     "metadata": {},
     "output_type": "execute_result"
    }
   ],
   "source": [
    "np.add(array1,array3,dtype='float64')"
   ]
  },
  {
   "cell_type": "markdown",
   "id": "609cbae6",
   "metadata": {},
   "source": [
    "Running a function along a given axis"
   ]
  },
  {
   "cell_type": "code",
   "execution_count": 70,
   "id": "21230ebd",
   "metadata": {},
   "outputs": [
    {
     "data": {
      "text/plain": [
       "array([3., 3., 5.])"
      ]
     },
     "execution_count": 70,
     "metadata": {},
     "output_type": "execute_result"
    }
   ],
   "source": [
    "np.mean(array3,axis=0)\n",
    "\n",
    "#When we set axis to be equal to 0, we are basically finding the mean for each column of the array"
   ]
  },
  {
   "cell_type": "code",
   "execution_count": 71,
   "id": "a989b6db",
   "metadata": {},
   "outputs": [
    {
     "data": {
      "text/plain": [
       "array([4.        , 3.33333333])"
      ]
     },
     "execution_count": 71,
     "metadata": {},
     "output_type": "execute_result"
    }
   ],
   "source": [
    "np.mean(array3,axis=1)\n",
    "# Setting axis=1 lets us find the mean for each row of the array"
   ]
  },
  {
   "cell_type": "markdown",
   "id": "ff6610f9",
   "metadata": {},
   "source": [
    "Some Numpy Fundamental Operations to note. Consider the array below"
   ]
  },
  {
   "cell_type": "code",
   "execution_count": 72,
   "id": "9883db00",
   "metadata": {},
   "outputs": [],
   "source": [
    "array_2D = np.array([[20,30,40,50,60], [43,54,65,76,87], [11,22,33,44,55]])\n",
    "#want to set the last column of this array to 100"
   ]
  },
  {
   "cell_type": "code",
   "execution_count": 73,
   "id": "006c7dc8",
   "metadata": {},
   "outputs": [],
   "source": [
    "array_2D[:,-1]=100"
   ]
  },
  {
   "cell_type": "code",
   "execution_count": 74,
   "id": "4f1ecca6",
   "metadata": {},
   "outputs": [
    {
     "data": {
      "text/plain": [
       "array([[ 20,  30,  40,  50, 100],\n",
       "       [ 43,  54,  65,  76, 100],\n",
       "       [ 11,  22,  33,  44, 100]])"
      ]
     },
     "execution_count": 74,
     "metadata": {},
     "output_type": "execute_result"
    }
   ],
   "source": [
    "array_2D"
   ]
  },
  {
   "cell_type": "code",
   "execution_count": 75,
   "id": "80ad0c72",
   "metadata": {},
   "outputs": [
    {
     "data": {
      "text/plain": [
       "array([[20, 20, 20, 20, 20],\n",
       "       [20, 20, 20, 20, 20],\n",
       "       [20, 20, 20, 20, 20]])"
      ]
     },
     "execution_count": 75,
     "metadata": {},
     "output_type": "execute_result"
    }
   ],
   "source": [
    "#Want to then set the first row of the array to 20\n",
    "#I still haven't gotten a solution though\n",
    "array_2D[:]=20\n",
    "array_2D"
   ]
  },
  {
   "cell_type": "code",
   "execution_count": 76,
   "id": "45019621",
   "metadata": {},
   "outputs": [],
   "source": [
    "array_3D = np.array([[[1,2,3,4,5], [11,21,31,41,51]], [[11,12,13,14,15], [51,52,53,54,5]]])"
   ]
  },
  {
   "cell_type": "code",
   "execution_count": 77,
   "id": "079b32b5",
   "metadata": {},
   "outputs": [
    {
     "data": {
      "text/plain": [
       "array([[[ 1,  2,  3,  4,  5],\n",
       "        [11, 21, 31, 41, 51]],\n",
       "\n",
       "       [[11, 12, 13, 14, 15],\n",
       "        [51, 52, 53, 54,  5]]])"
      ]
     },
     "execution_count": 77,
     "metadata": {},
     "output_type": "execute_result"
    }
   ],
   "source": [
    "array_3D"
   ]
  },
  {
   "cell_type": "code",
   "execution_count": 78,
   "id": "86702ada",
   "metadata": {},
   "outputs": [],
   "source": [
    "array_3D[:]=50\n",
    "#To set all values of array_3D to 50"
   ]
  },
  {
   "cell_type": "code",
   "execution_count": 79,
   "id": "cfe7a01e",
   "metadata": {},
   "outputs": [
    {
     "data": {
      "text/plain": [
       "array([[[50, 50, 50, 50, 50],\n",
       "        [50, 50, 50, 50, 50]],\n",
       "\n",
       "       [[50, 50, 50, 50, 50],\n",
       "        [50, 50, 50, 50, 50]]])"
      ]
     },
     "execution_count": 79,
     "metadata": {},
     "output_type": "execute_result"
    }
   ],
   "source": [
    "array_3D"
   ]
  },
  {
   "cell_type": "markdown",
   "id": "8a3a0a44",
   "metadata": {},
   "source": [
    "Since we've altered the values of our original arrays, we want to re-run the following cells to \n",
    "get back our original arrays"
   ]
  },
  {
   "cell_type": "code",
   "execution_count": 80,
   "id": "713235f2",
   "metadata": {},
   "outputs": [
    {
     "data": {
      "text/plain": [
       "array([10, 11, 12, 13, 14])"
      ]
     },
     "execution_count": 80,
     "metadata": {},
     "output_type": "execute_result"
    }
   ],
   "source": [
    "array_1D = np.array([10,11,12,13,14])\n",
    "array_1D"
   ]
  },
  {
   "cell_type": "code",
   "execution_count": 81,
   "id": "a2c7b62c",
   "metadata": {},
   "outputs": [
    {
     "data": {
      "text/plain": [
       "array([[20, 30, 40, 50, 60],\n",
       "       [43, 54, 65, 76, 87],\n",
       "       [11, 22, 33, 44, 55]])"
      ]
     },
     "execution_count": 81,
     "metadata": {},
     "output_type": "execute_result"
    }
   ],
   "source": [
    "array_2D = np.array([[20,30,40,50,60], [43,54,65,76,87], [11,22,33,44,55]])\n",
    "array_2D"
   ]
  },
  {
   "cell_type": "code",
   "execution_count": 82,
   "id": "c604dde7",
   "metadata": {},
   "outputs": [
    {
     "data": {
      "text/plain": [
       "array([[[ 1,  2,  3,  4,  5],\n",
       "        [11, 21, 31, 41, 51]],\n",
       "\n",
       "       [[11, 12, 13, 14, 15],\n",
       "        [51, 52, 53, 54,  5]]])"
      ]
     },
     "execution_count": 82,
     "metadata": {},
     "output_type": "execute_result"
    }
   ],
   "source": [
    "array_3D = np.array([[[1,2,3,4,5], [11,21,31,41,51]], [[11,12,13,14,15], [51,52,53,54,5]]])\n",
    "array_3D"
   ]
  },
  {
   "cell_type": "markdown",
   "id": "b826a48b",
   "metadata": {},
   "source": [
    "Want to Add 2 to every element of the 3 arrays without overwriting their values"
   ]
  },
  {
   "cell_type": "code",
   "execution_count": 83,
   "id": "abf6b487",
   "metadata": {},
   "outputs": [
    {
     "data": {
      "text/plain": [
       "array([12, 13, 14, 15, 16])"
      ]
     },
     "execution_count": 83,
     "metadata": {},
     "output_type": "execute_result"
    }
   ],
   "source": [
    "array_1D+2"
   ]
  },
  {
   "cell_type": "code",
   "execution_count": 84,
   "id": "51b48e16",
   "metadata": {},
   "outputs": [
    {
     "data": {
      "text/plain": [
       "array([[22, 32, 42, 52, 62],\n",
       "       [45, 56, 67, 78, 89],\n",
       "       [13, 24, 35, 46, 57]])"
      ]
     },
     "execution_count": 84,
     "metadata": {},
     "output_type": "execute_result"
    }
   ],
   "source": [
    "array_2D+2"
   ]
  },
  {
   "cell_type": "code",
   "execution_count": 85,
   "id": "889ca32e",
   "metadata": {},
   "outputs": [
    {
     "data": {
      "text/plain": [
       "array([[[ 3,  4,  5,  6,  7],\n",
       "        [13, 23, 33, 43, 53]],\n",
       "\n",
       "       [[13, 14, 15, 16, 17],\n",
       "        [53, 54, 55, 56,  7]]])"
      ]
     },
     "execution_count": 85,
     "metadata": {},
     "output_type": "execute_result"
    }
   ],
   "source": [
    "array_3D+2"
   ]
  },
  {
   "cell_type": "markdown",
   "id": "5f29fef4",
   "metadata": {},
   "source": [
    "\n",
    "Want to multiply the values of each array by 100 without overwriting their values."
   ]
  },
  {
   "cell_type": "code",
   "execution_count": 86,
   "id": "99ca93c3",
   "metadata": {},
   "outputs": [
    {
     "data": {
      "text/plain": [
       "array([1000, 1100, 1200, 1300, 1400])"
      ]
     },
     "execution_count": 86,
     "metadata": {},
     "output_type": "execute_result"
    }
   ],
   "source": [
    "array_1D*100"
   ]
  },
  {
   "cell_type": "code",
   "execution_count": 87,
   "id": "5b51f878",
   "metadata": {},
   "outputs": [
    {
     "data": {
      "text/plain": [
       "array([[2000, 3000, 4000, 5000, 6000],\n",
       "       [4300, 5400, 6500, 7600, 8700],\n",
       "       [1100, 2200, 3300, 4400, 5500]])"
      ]
     },
     "execution_count": 87,
     "metadata": {},
     "output_type": "execute_result"
    }
   ],
   "source": [
    "array_2D*100"
   ]
  },
  {
   "cell_type": "code",
   "execution_count": 88,
   "id": "cc2662a4",
   "metadata": {},
   "outputs": [
    {
     "data": {
      "text/plain": [
       "array([[[ 100,  200,  300,  400,  500],\n",
       "        [1100, 2100, 3100, 4100, 5100]],\n",
       "\n",
       "       [[1100, 1200, 1300, 1400, 1500],\n",
       "        [5100, 5200, 5300, 5400,  500]]])"
      ]
     },
     "execution_count": 88,
     "metadata": {},
     "output_type": "execute_result"
    }
   ],
   "source": [
    "array_3D*100"
   ]
  },
  {
   "cell_type": "markdown",
   "id": "57575a6b",
   "metadata": {},
   "source": [
    "Want to add up array_1D and the first row of array_2D"
   ]
  },
  {
   "cell_type": "code",
   "execution_count": 89,
   "id": "ae4ec6eb",
   "metadata": {},
   "outputs": [
    {
     "data": {
      "text/plain": [
       "array([30, 41, 52, 63, 74])"
      ]
     },
     "execution_count": 89,
     "metadata": {},
     "output_type": "execute_result"
    }
   ],
   "source": [
    "array_1D+array_2D[0]"
   ]
  },
  {
   "cell_type": "markdown",
   "id": "df7e58ae",
   "metadata": {},
   "source": [
    "Re-writing array_1D as a string"
   ]
  },
  {
   "cell_type": "code",
   "execution_count": 90,
   "id": "ba2e257c",
   "metadata": {},
   "outputs": [
    {
     "data": {
      "text/plain": [
       "array(['10', '11', '12', '13', '14'], dtype='<U2')"
      ]
     },
     "execution_count": 90,
     "metadata": {},
     "output_type": "execute_result"
    }
   ],
   "source": [
    "array_1D = np.array([10,11,12,13,14],dtype=str)\n",
    "array_1D"
   ]
  },
  {
   "cell_type": "markdown",
   "id": "157dc4dc",
   "metadata": {},
   "source": [
    "Re-writing array_2D as a complex number"
   ]
  },
  {
   "cell_type": "code",
   "execution_count": 91,
   "id": "0a2b6cd8",
   "metadata": {},
   "outputs": [
    {
     "data": {
      "text/plain": [
       "array([[20.+0.j, 30.+0.j, 40.+0.j, 50.+0.j, 60.+0.j],\n",
       "       [43.+0.j, 54.+0.j, 65.+0.j, 76.+0.j, 87.+0.j],\n",
       "       [11.+0.j, 22.+0.j, 33.+0.j, 44.+0.j, 55.+0.j]])"
      ]
     },
     "execution_count": 91,
     "metadata": {},
     "output_type": "execute_result"
    }
   ],
   "source": [
    "array_2D = np.array([[20,30,40,50,60], [43,54,65,76,87], [11,22,33,44,55]],dtype=np.complex128)\n",
    "array_2D"
   ]
  },
  {
   "cell_type": "markdown",
   "id": "bb243d7f",
   "metadata": {},
   "source": [
    "Re-writing array_3D as a 64 bit float"
   ]
  },
  {
   "cell_type": "code",
   "execution_count": 92,
   "id": "66f3195c",
   "metadata": {},
   "outputs": [
    {
     "data": {
      "text/plain": [
       "array([[[ 1.,  2.,  3.,  4.,  5.],\n",
       "        [11., 21., 31., 41., 51.]],\n",
       "\n",
       "       [[11., 12., 13., 14., 15.],\n",
       "        [51., 52., 53., 54.,  5.]]])"
      ]
     },
     "execution_count": 92,
     "metadata": {},
     "output_type": "execute_result"
    }
   ],
   "source": [
    "array_3D = np.array([[[1,2,3,4,5], [11,21,31,41,51]], [[11,12,13,14,15], [51,52,53,54,5]]],dtype=np.float64)\n",
    "array_3D"
   ]
  },
  {
   "cell_type": "code",
   "execution_count": 93,
   "id": "f00c7c2a",
   "metadata": {
    "scrolled": true
   },
   "outputs": [
    {
     "data": {
      "text/plain": [
       "array([10, 11, 12, 13, 14])"
      ]
     },
     "execution_count": 93,
     "metadata": {},
     "output_type": "execute_result"
    }
   ],
   "source": [
    "array_1D = np.array([10,11,12,13,14])\n",
    "array_1D"
   ]
  },
  {
   "cell_type": "code",
   "execution_count": 94,
   "id": "6d9d1793",
   "metadata": {},
   "outputs": [
    {
     "data": {
      "text/plain": [
       "array([[20, 30, 40, 50, 60],\n",
       "       [43, 54, 65, 76, 87],\n",
       "       [11, 22, 33, 44, 55]])"
      ]
     },
     "execution_count": 94,
     "metadata": {},
     "output_type": "execute_result"
    }
   ],
   "source": [
    "array_2D = np.array([[20,30,40,50,60], [43,54,65,76,87], [11,22,33,44,55]])\n",
    "array_2D"
   ]
  },
  {
   "cell_type": "code",
   "execution_count": 95,
   "id": "4b53bb76",
   "metadata": {},
   "outputs": [
    {
     "data": {
      "text/plain": [
       "array([[[ 1,  2,  3,  4,  5],\n",
       "        [11, 21, 31, 41, 51]],\n",
       "\n",
       "       [[11, 12, 13, 14, 15],\n",
       "        [51, 52, 53, 54,  5]]])"
      ]
     },
     "execution_count": 95,
     "metadata": {},
     "output_type": "execute_result"
    }
   ],
   "source": [
    "array_3D = np.array([[[1,2,3,4,5], [11,21,31,41,51]], [[11,12,13,14,15], [51,52,53,54,5]]])\n",
    "array_3D"
   ]
  },
  {
   "cell_type": "code",
   "execution_count": 96,
   "id": "97a281b0",
   "metadata": {},
   "outputs": [
    {
     "data": {
      "text/plain": [
       "array([[10, 19, 28, 37, 46],\n",
       "       [33, 43, 53, 63, 73],\n",
       "       [ 1, 11, 21, 31, 41]])"
      ]
     },
     "execution_count": 96,
     "metadata": {},
     "output_type": "execute_result"
    }
   ],
   "source": [
    "array_2D-array_1D"
   ]
  },
  {
   "cell_type": "code",
   "execution_count": 97,
   "id": "211be6a5",
   "metadata": {},
   "outputs": [
    {
     "data": {
      "text/plain": [
       "array([[[0.1       , 0.18181818, 0.25      , 0.30769231, 0.35714286],\n",
       "        [1.1       , 1.90909091, 2.58333333, 3.15384615, 3.64285714]],\n",
       "\n",
       "       [[1.1       , 1.09090909, 1.08333333, 1.07692308, 1.07142857],\n",
       "        [5.1       , 4.72727273, 4.41666667, 4.15384615, 0.35714286]]])"
      ]
     },
     "execution_count": 97,
     "metadata": {},
     "output_type": "execute_result"
    }
   ],
   "source": [
    "array_3D/array_1D"
   ]
  },
  {
   "cell_type": "markdown",
   "id": "5c7db1b1",
   "metadata": {},
   "source": [
    "Want to use axis argument of the np.mean() function to find the mean for every column of the 2-D array"
   ]
  },
  {
   "cell_type": "code",
   "execution_count": 98,
   "id": "0910b43a",
   "metadata": {},
   "outputs": [
    {
     "data": {
      "text/plain": [
       "array([24.66666667, 35.33333333, 46.        , 56.66666667, 67.33333333])"
      ]
     },
     "execution_count": 98,
     "metadata": {},
     "output_type": "execute_result"
    }
   ],
   "source": [
    "np.mean(array_2D,axis=0)"
   ]
  },
  {
   "cell_type": "markdown",
   "id": "539100aa",
   "metadata": {},
   "source": [
    "How about if we do same for every row?"
   ]
  },
  {
   "cell_type": "code",
   "execution_count": 99,
   "id": "3e10149b",
   "metadata": {},
   "outputs": [
    {
     "data": {
      "text/plain": [
       "array([40., 65., 33.])"
      ]
     },
     "execution_count": 99,
     "metadata": {},
     "output_type": "execute_result"
    }
   ],
   "source": [
    "np.mean(array_2D,axis=1)"
   ]
  },
  {
   "cell_type": "markdown",
   "id": "25a4ca8a",
   "metadata": {},
   "source": [
    "Want to use axis argument of the np.mean() function to find the mean for every column of the 3-D array"
   ]
  },
  {
   "cell_type": "code",
   "execution_count": 100,
   "id": "c10b13db",
   "metadata": {},
   "outputs": [
    {
     "data": {
      "text/plain": [
       "array([[ 6. , 11.5, 17. , 22.5, 28. ],\n",
       "       [31. , 32. , 33. , 34. , 10. ]])"
      ]
     },
     "execution_count": 100,
     "metadata": {},
     "output_type": "execute_result"
    }
   ],
   "source": [
    "np.mean(array_3D,axis=1)"
   ]
  },
  {
   "cell_type": "code",
   "execution_count": null,
   "id": "58e39453",
   "metadata": {},
   "outputs": [],
   "source": []
  },
  {
   "cell_type": "code",
   "execution_count": null,
   "id": "1a11302f",
   "metadata": {},
   "outputs": [],
   "source": []
  },
  {
   "cell_type": "code",
   "execution_count": null,
   "id": "50daa577",
   "metadata": {},
   "outputs": [],
   "source": []
  },
  {
   "cell_type": "code",
   "execution_count": null,
   "id": "da0a7c3f",
   "metadata": {},
   "outputs": [],
   "source": []
  },
  {
   "cell_type": "code",
   "execution_count": null,
   "id": "fc013fd6",
   "metadata": {},
   "outputs": [],
   "source": []
  },
  {
   "cell_type": "code",
   "execution_count": null,
   "id": "fe123db7",
   "metadata": {},
   "outputs": [],
   "source": []
  },
  {
   "cell_type": "code",
   "execution_count": null,
   "id": "0d87a21b",
   "metadata": {},
   "outputs": [],
   "source": []
  },
  {
   "cell_type": "code",
   "execution_count": null,
   "id": "189d9b08",
   "metadata": {},
   "outputs": [],
   "source": []
  },
  {
   "cell_type": "code",
   "execution_count": null,
   "id": "997aaca6",
   "metadata": {},
   "outputs": [],
   "source": []
  },
  {
   "cell_type": "code",
   "execution_count": null,
   "id": "45f8565e",
   "metadata": {},
   "outputs": [],
   "source": []
  },
  {
   "cell_type": "code",
   "execution_count": null,
   "id": "ef1884be",
   "metadata": {},
   "outputs": [],
   "source": []
  },
  {
   "cell_type": "code",
   "execution_count": null,
   "id": "9b4af829",
   "metadata": {},
   "outputs": [],
   "source": []
  },
  {
   "cell_type": "code",
   "execution_count": null,
   "id": "cf120459",
   "metadata": {},
   "outputs": [],
   "source": []
  },
  {
   "cell_type": "code",
   "execution_count": null,
   "id": "866f82bb",
   "metadata": {},
   "outputs": [],
   "source": []
  },
  {
   "cell_type": "code",
   "execution_count": null,
   "id": "6e5dbf88",
   "metadata": {},
   "outputs": [],
   "source": []
  },
  {
   "cell_type": "code",
   "execution_count": null,
   "id": "5a5cdc4b",
   "metadata": {},
   "outputs": [],
   "source": []
  },
  {
   "cell_type": "code",
   "execution_count": null,
   "id": "c4a62d00",
   "metadata": {},
   "outputs": [],
   "source": []
  },
  {
   "cell_type": "code",
   "execution_count": null,
   "id": "58b3278d",
   "metadata": {},
   "outputs": [],
   "source": []
  },
  {
   "cell_type": "code",
   "execution_count": null,
   "id": "dade4c29",
   "metadata": {},
   "outputs": [],
   "source": []
  },
  {
   "cell_type": "code",
   "execution_count": null,
   "id": "3e2a7e7c",
   "metadata": {},
   "outputs": [],
   "source": []
  },
  {
   "cell_type": "code",
   "execution_count": null,
   "id": "4bba2536",
   "metadata": {},
   "outputs": [],
   "source": []
  },
  {
   "cell_type": "code",
   "execution_count": null,
   "id": "4a3dd263",
   "metadata": {},
   "outputs": [],
   "source": []
  }
 ],
 "metadata": {
  "kernelspec": {
   "display_name": "Python 3 (ipykernel)",
   "language": "python",
   "name": "python3"
  },
  "language_info": {
   "codemirror_mode": {
    "name": "ipython",
    "version": 3
   },
   "file_extension": ".py",
   "mimetype": "text/x-python",
   "name": "python",
   "nbconvert_exporter": "python",
   "pygments_lexer": "ipython3",
   "version": "3.9.7"
  }
 },
 "nbformat": 4,
 "nbformat_minor": 5
}
